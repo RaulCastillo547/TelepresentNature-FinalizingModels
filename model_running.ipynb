{
 "cells": [
  {
   "cell_type": "code",
   "execution_count": 1,
   "metadata": {},
   "outputs": [],
   "source": [
    "import IPython\n",
    "import IPython.display\n",
    "import keras\n",
    "import matplotlib as mpl\n",
    "import matplotlib.pyplot as plt\n",
    "import numpy as np\n",
    "import pandas as pd\n",
    "import sklearn\n",
    "import tensorflow as tf\n",
    "from sklearn.metrics import mean_absolute_error, mean_squared_error\n",
    "\n",
    "import auxiliaries as aux"
   ]
  },
  {
   "cell_type": "markdown",
   "metadata": {},
   "source": [
    "## Setup"
   ]
  },
  {
   "cell_type": "code",
   "execution_count": 2,
   "metadata": {},
   "outputs": [
    {
     "name": "stdout",
     "output_type": "stream",
     "text": [
      "------Original Regressive Window------\n",
      "Original Data Size: 2923\n",
      "Training Data Size: 2046\n",
      "Testing Data Size: 877\n",
      "\n",
      "Training Mean:\n",
      "external-temperature      16.545455\n",
      "longitude                 11.031551\n",
      "latitude                  46.008411\n",
      "altitude                1408.284307\n",
      "month                      6.251222\n",
      "day                       15.697458\n",
      "dtype: float64\n",
      "Training Std. Dev.:\n",
      "external-temperature      5.343885\n",
      "longitude                 0.021036\n",
      "latitude                  0.002235\n",
      "altitude                313.338906\n",
      "month                     3.396595\n",
      "day                       8.695606\n",
      "dtype: float64\n",
      "\n",
      "------Reversed Regressive Window------\n",
      "Original Data Size: 2923\n",
      "Training Data Size: 2046\n",
      "Testing Data Size: 877\n",
      "\n",
      "Training Mean:\n",
      "external-temperature      15.382209\n",
      "longitude                 11.036021\n",
      "latitude                  46.008706\n",
      "altitude                1467.595691\n",
      "month                      6.727273\n",
      "day                       15.601173\n",
      "dtype: float64\n",
      "Training Std. Dev.:\n",
      "external-temperature      6.524474\n",
      "longitude                 0.018820\n",
      "latitude                  0.002072\n",
      "altitude                284.112288\n",
      "month                     3.458438\n",
      "day                       8.717365\n",
      "dtype: float64\n",
      "\n"
     ]
    }
   ],
   "source": [
    "# Develop window for data separation\n",
    "species = 'Deer'\n",
    "file_name = 'GSM02927'\n",
    "\n",
    "years_to_predict = 1\n",
    "time_intervals = 3 if species == 'Moose' else 4\n",
    "\n",
    "regressive_window = aux.RegressiveWindow(species, file_name)\n",
    "reversed_regressive_window = aux.ReversedRegressiveWindow(species, file_name)\n",
    "\n",
    "results = {}\n",
    "\n",
    "print('------Original Regressive Window------')\n",
    "print(f'Original Data Size: {len(regressive_window.orig_df)}')\n",
    "print(f'Training Data Size: {len(regressive_window.train_df)}')\n",
    "print(f'Testing Data Size: {len(regressive_window.test_df)}\\n')\n",
    "\n",
    "print(f'Training Mean:\\n{regressive_window.train_df.mean()}')\n",
    "print(f'Training Std. Dev.:\\n{regressive_window.train_df.std()}\\n')\n",
    "\n",
    "print('------Reversed Regressive Window------')\n",
    "print(f'Original Data Size: {len(reversed_regressive_window.orig_df)}')\n",
    "print(f'Training Data Size: {len(reversed_regressive_window.train_df)}')\n",
    "print(f'Testing Data Size: {len(reversed_regressive_window.test_df)}\\n')\n",
    "\n",
    "print(f'Training Mean:\\n{reversed_regressive_window.train_df.mean()}')\n",
    "print(f'Training Std. Dev.:\\n{reversed_regressive_window.train_df.std()}\\n')"
   ]
  },
  {
   "cell_type": "markdown",
   "metadata": {},
   "source": [
    "### Regressive Model"
   ]
  },
  {
   "cell_type": "code",
   "execution_count": 3,
   "metadata": {},
   "outputs": [
    {
     "name": "stdout",
     "output_type": "stream",
     "text": [
      "Epoch 1/20\n"
     ]
    },
    {
     "name": "stderr",
     "output_type": "stream",
     "text": [
      "c:\\Users\\Imper\\AppData\\Local\\Programs\\Python\\Python312\\Lib\\site-packages\\keras\\src\\layers\\core\\dense.py:87: UserWarning: Do not pass an `input_shape`/`input_dim` argument to a layer. When using Sequential models, prefer using an `Input(shape)` object as the first layer in the model instead.\n",
      "  super().__init__(activity_regularizer=activity_regularizer, **kwargs)\n"
     ]
    },
    {
     "name": "stdout",
     "output_type": "stream",
     "text": [
      "\u001b[1m64/64\u001b[0m \u001b[32m━━━━━━━━━━━━━━━━━━━━\u001b[0m\u001b[37m\u001b[0m \u001b[1m2s\u001b[0m 4ms/step - loss: 0.7404 - mean_absolute_error: 0.6958 - mean_squared_error: 0.7404\n",
      "Epoch 2/20\n",
      "\u001b[1m36/64\u001b[0m \u001b[32m━━━━━━━━━━━\u001b[0m\u001b[37m━━━━━━━━━\u001b[0m \u001b[1m0s\u001b[0m 5ms/step - loss: 0.5314 - mean_absolute_error: 0.5492 - mean_squared_error: 0.5314"
     ]
    },
    {
     "name": "stderr",
     "output_type": "stream",
     "text": [
      "c:\\Users\\Imper\\AppData\\Local\\Programs\\Python\\Python312\\Lib\\site-packages\\keras\\src\\callbacks\\early_stopping.py:155: UserWarning: Early stopping conditioned on metric `val_loss` which is not available. Available metrics are: loss,mean_absolute_error,mean_squared_error\n",
      "  current = self.get_monitor_value(logs)\n"
     ]
    },
    {
     "name": "stdout",
     "output_type": "stream",
     "text": [
      "\u001b[1m64/64\u001b[0m \u001b[32m━━━━━━━━━━━━━━━━━━━━\u001b[0m\u001b[37m\u001b[0m \u001b[1m0s\u001b[0m 5ms/step - loss: 0.5429 - mean_absolute_error: 0.5517 - mean_squared_error: 0.5429\n",
      "Epoch 3/20\n",
      "\u001b[1m64/64\u001b[0m \u001b[32m━━━━━━━━━━━━━━━━━━━━\u001b[0m\u001b[37m\u001b[0m \u001b[1m0s\u001b[0m 5ms/step - loss: 0.5273 - mean_absolute_error: 0.5424 - mean_squared_error: 0.5273\n",
      "Epoch 4/20\n",
      "\u001b[1m64/64\u001b[0m \u001b[32m━━━━━━━━━━━━━━━━━━━━\u001b[0m\u001b[37m\u001b[0m \u001b[1m0s\u001b[0m 4ms/step - loss: 0.4900 - mean_absolute_error: 0.5057 - mean_squared_error: 0.4900\n",
      "Epoch 5/20\n",
      "\u001b[1m64/64\u001b[0m \u001b[32m━━━━━━━━━━━━━━━━━━━━\u001b[0m\u001b[37m\u001b[0m \u001b[1m0s\u001b[0m 4ms/step - loss: 0.4602 - mean_absolute_error: 0.4899 - mean_squared_error: 0.4602\n",
      "Epoch 6/20\n",
      "\u001b[1m64/64\u001b[0m \u001b[32m━━━━━━━━━━━━━━━━━━━━\u001b[0m\u001b[37m\u001b[0m \u001b[1m0s\u001b[0m 5ms/step - loss: 0.4531 - mean_absolute_error: 0.4864 - mean_squared_error: 0.4531\n",
      "Epoch 7/20\n",
      "\u001b[1m64/64\u001b[0m \u001b[32m━━━━━━━━━━━━━━━━━━━━\u001b[0m\u001b[37m\u001b[0m \u001b[1m0s\u001b[0m 4ms/step - loss: 0.4218 - mean_absolute_error: 0.4658 - mean_squared_error: 0.4218\n",
      "Epoch 8/20\n",
      "\u001b[1m64/64\u001b[0m \u001b[32m━━━━━━━━━━━━━━━━━━━━\u001b[0m\u001b[37m\u001b[0m \u001b[1m0s\u001b[0m 4ms/step - loss: 0.4202 - mean_absolute_error: 0.4557 - mean_squared_error: 0.4202\n",
      "Epoch 9/20\n",
      "\u001b[1m64/64\u001b[0m \u001b[32m━━━━━━━━━━━━━━━━━━━━\u001b[0m\u001b[37m\u001b[0m \u001b[1m0s\u001b[0m 4ms/step - loss: 0.3914 - mean_absolute_error: 0.4395 - mean_squared_error: 0.3914\n",
      "Epoch 10/20\n",
      "\u001b[1m64/64\u001b[0m \u001b[32m━━━━━━━━━━━━━━━━━━━━\u001b[0m\u001b[37m\u001b[0m \u001b[1m0s\u001b[0m 4ms/step - loss: 0.3661 - mean_absolute_error: 0.4148 - mean_squared_error: 0.3661\n",
      "Epoch 11/20\n",
      "\u001b[1m64/64\u001b[0m \u001b[32m━━━━━━━━━━━━━━━━━━━━\u001b[0m\u001b[37m\u001b[0m \u001b[1m0s\u001b[0m 4ms/step - loss: 0.3808 - mean_absolute_error: 0.4179 - mean_squared_error: 0.3808\n",
      "Epoch 12/20\n",
      "\u001b[1m64/64\u001b[0m \u001b[32m━━━━━━━━━━━━━━━━━━━━\u001b[0m\u001b[37m\u001b[0m \u001b[1m0s\u001b[0m 4ms/step - loss: 0.3788 - mean_absolute_error: 0.4210 - mean_squared_error: 0.3788\n",
      "Epoch 13/20\n",
      "\u001b[1m64/64\u001b[0m \u001b[32m━━━━━━━━━━━━━━━━━━━━\u001b[0m\u001b[37m\u001b[0m \u001b[1m0s\u001b[0m 4ms/step - loss: 0.3501 - mean_absolute_error: 0.3928 - mean_squared_error: 0.3501\n",
      "Epoch 14/20\n",
      "\u001b[1m64/64\u001b[0m \u001b[32m━━━━━━━━━━━━━━━━━━━━\u001b[0m\u001b[37m\u001b[0m \u001b[1m0s\u001b[0m 4ms/step - loss: 0.3678 - mean_absolute_error: 0.4019 - mean_squared_error: 0.3678\n",
      "Epoch 15/20\n",
      "\u001b[1m64/64\u001b[0m \u001b[32m━━━━━━━━━━━━━━━━━━━━\u001b[0m\u001b[37m\u001b[0m \u001b[1m0s\u001b[0m 4ms/step - loss: 0.3600 - mean_absolute_error: 0.3987 - mean_squared_error: 0.3600\n",
      "Epoch 16/20\n",
      "\u001b[1m64/64\u001b[0m \u001b[32m━━━━━━━━━━━━━━━━━━━━\u001b[0m\u001b[37m\u001b[0m \u001b[1m0s\u001b[0m 4ms/step - loss: 0.3710 - mean_absolute_error: 0.4167 - mean_squared_error: 0.3710\n",
      "Epoch 17/20\n",
      "\u001b[1m64/64\u001b[0m \u001b[32m━━━━━━━━━━━━━━━━━━━━\u001b[0m\u001b[37m\u001b[0m \u001b[1m0s\u001b[0m 4ms/step - loss: 0.3446 - mean_absolute_error: 0.3950 - mean_squared_error: 0.3446\n",
      "Epoch 18/20\n",
      "\u001b[1m64/64\u001b[0m \u001b[32m━━━━━━━━━━━━━━━━━━━━\u001b[0m\u001b[37m\u001b[0m \u001b[1m0s\u001b[0m 4ms/step - loss: 0.3577 - mean_absolute_error: 0.3978 - mean_squared_error: 0.3577\n",
      "Epoch 19/20\n",
      "\u001b[1m64/64\u001b[0m \u001b[32m━━━━━━━━━━━━━━━━━━━━\u001b[0m\u001b[37m\u001b[0m \u001b[1m0s\u001b[0m 4ms/step - loss: 0.3374 - mean_absolute_error: 0.3857 - mean_squared_error: 0.3374\n",
      "Epoch 20/20\n",
      "\u001b[1m64/64\u001b[0m \u001b[32m━━━━━━━━━━━━━━━━━━━━\u001b[0m\u001b[37m\u001b[0m \u001b[1m0s\u001b[0m 4ms/step - loss: 0.3196 - mean_absolute_error: 0.3729 - mean_squared_error: 0.3196\n"
     ]
    },
    {
     "data": {
      "text/plain": [
       "<keras.src.callbacks.history.History at 0x17eb58389e0>"
      ]
     },
     "execution_count": 3,
     "metadata": {},
     "output_type": "execute_result"
    }
   ],
   "source": [
    "regressive_model = tf.keras.models.Sequential([\n",
    "    tf.keras.layers.Dense(256, input_shape=(1,3), activation='relu'),\n",
    "    tf.keras.layers.Dense(128, activation='relu'),\n",
    "    tf.keras.layers.Dense(128, activation='relu'),\n",
    "    tf.keras.layers.Dense(2)\n",
    "])\n",
    "\n",
    "regressive_window.model_compilation_and_fitting(regressive_model)"
   ]
  },
  {
   "cell_type": "code",
   "execution_count": 4,
   "metadata": {},
   "outputs": [
    {
     "name": "stdout",
     "output_type": "stream",
     "text": [
      "\u001b[1m28/28\u001b[0m \u001b[32m━━━━━━━━━━━━━━━━━━━━\u001b[0m\u001b[37m\u001b[0m \u001b[1m0s\u001b[0m 2ms/step - loss: 1.0444 - mean_absolute_error: 0.7193 - mean_squared_error: 1.0444  \n"
     ]
    }
   ],
   "source": [
    "results['Original Regressive Model'] = regressive_model.evaluate(regressive_window.test_input, regressive_window.test_label, verbose=1, return_dict=True)"
   ]
  },
  {
   "cell_type": "code",
   "execution_count": 5,
   "metadata": {},
   "outputs": [
    {
     "data": {
      "text/plain": [
       "{'loss': 0.7951700091362,\n",
       " 'mean_absolute_error': 0.6521283388137817,\n",
       " 'mean_squared_error': 0.7951700091362}"
      ]
     },
     "execution_count": 5,
     "metadata": {},
     "output_type": "execute_result"
    }
   ],
   "source": [
    "results['Original Regressive Model']"
   ]
  },
  {
   "cell_type": "code",
   "execution_count": 6,
   "metadata": {},
   "outputs": [],
   "source": [
    "# Input ordering\n",
    "original_output = regressive_window.test_label\n",
    "original_output = original_output.reshape((original_output.shape[0], original_output.shape[-1]))#*regressive_window.train_df[['longitude', 'latitude']].std().values + regressive_window.train_df[['longitude', 'latitude']].mean().values\n",
    "predicted_output = regressive_model(regressive_window.test_input).numpy()\n",
    "predicted_output = predicted_output.reshape((predicted_output.shape[0], predicted_output.shape[-1]))#*regressive_window.train_df[['longitude', 'latitude']].std().values + regressive_window.train_df[['longitude', 'latitude']].mean().values\n",
    "\n",
    "# Statistics gathering\n",
    "mae_values = list(mean_absolute_error(original_output, predicted_output, multioutput='raw_values'))\n",
    "mae_values = {coord_name: coord_value for coord_name, coord_value in zip(['mae_longitude', 'mae_latitude'], mae_values)}\n",
    "mse_values = list(mean_squared_error(original_output, predicted_output, multioutput='raw_values'))\n",
    "mse_values = {coord_name: coord_value for coord_name, coord_value in zip(['mse_longitude', 'mse_latitude'], mse_values)}\n",
    "\n",
    "# Apply statistics to results\n",
    "results['Original Regressive Model'].update(mae_values)\n",
    "results['Original Regressive Model'].update(mse_values)"
   ]
  },
  {
   "cell_type": "code",
   "execution_count": 7,
   "metadata": {},
   "outputs": [],
   "source": [
    "regressive_window.csv_extension(f'{species}/{file_name}_regressive', species, regressive_model)"
   ]
  },
  {
   "cell_type": "code",
   "execution_count": 8,
   "metadata": {},
   "outputs": [],
   "source": [
    "regressive_model.save(f'ModelFiles/SavedModels/{species}/{file_name}_regressive.keras')"
   ]
  },
  {
   "cell_type": "code",
   "execution_count": 9,
   "metadata": {},
   "outputs": [
    {
     "name": "stderr",
     "output_type": "stream",
     "text": [
      "C:\\Users\\Imper\\AppData\\Local\\Temp\\ipykernel_40020\\3724138723.py:4: SettingWithCopyWarning: \n",
      "A value is trying to be set on a copy of a slice from a DataFrame.\n",
      "Try using .loc[row_indexer,col_indexer] = value instead\n",
      "\n",
      "See the caveats in the documentation: https://pandas.pydata.org/pandas-docs/stable/user_guide/indexing.html#returning-a-view-versus-a-copy\n",
      "  test_df['timestamp'] = window.timeline[int(len(window.orig_df)*0.7):]\n"
     ]
    },
    {
     "data": {
      "text/html": [
       "<div>\n",
       "<style scoped>\n",
       "    .dataframe tbody tr th:only-of-type {\n",
       "        vertical-align: middle;\n",
       "    }\n",
       "\n",
       "    .dataframe tbody tr th {\n",
       "        vertical-align: top;\n",
       "    }\n",
       "\n",
       "    .dataframe thead th {\n",
       "        text-align: right;\n",
       "    }\n",
       "</style>\n",
       "<table border=\"1\" class=\"dataframe\">\n",
       "  <thead>\n",
       "    <tr style=\"text-align: right;\">\n",
       "      <th></th>\n",
       "      <th>timestamp</th>\n",
       "      <th>month</th>\n",
       "      <th>day</th>\n",
       "      <th>external-temperature</th>\n",
       "      <th>longitude</th>\n",
       "      <th>latitude</th>\n",
       "      <th>id</th>\n",
       "    </tr>\n",
       "  </thead>\n",
       "  <tbody>\n",
       "    <tr>\n",
       "      <th>0</th>\n",
       "      <td>2007-10-19 16:02:55</td>\n",
       "      <td>10</td>\n",
       "      <td>19</td>\n",
       "      <td>-0.6</td>\n",
       "      <td>11.047242</td>\n",
       "      <td>46.010533</td>\n",
       "      <td>original</td>\n",
       "    </tr>\n",
       "    <tr>\n",
       "      <th>1</th>\n",
       "      <td>2007-10-19 20:01:47</td>\n",
       "      <td>10</td>\n",
       "      <td>19</td>\n",
       "      <td>-3.6</td>\n",
       "      <td>11.048442</td>\n",
       "      <td>46.008974</td>\n",
       "      <td>original</td>\n",
       "    </tr>\n",
       "    <tr>\n",
       "      <th>2</th>\n",
       "      <td>2007-10-20 00:01:11</td>\n",
       "      <td>10</td>\n",
       "      <td>20</td>\n",
       "      <td>11.4</td>\n",
       "      <td>11.047115</td>\n",
       "      <td>46.009779</td>\n",
       "      <td>original</td>\n",
       "    </tr>\n",
       "    <tr>\n",
       "      <th>3</th>\n",
       "      <td>2007-10-20 04:00:55</td>\n",
       "      <td>10</td>\n",
       "      <td>20</td>\n",
       "      <td>-7.3</td>\n",
       "      <td>11.048017</td>\n",
       "      <td>46.008876</td>\n",
       "      <td>original</td>\n",
       "    </tr>\n",
       "    <tr>\n",
       "      <th>4</th>\n",
       "      <td>2007-10-20 08:00:55</td>\n",
       "      <td>10</td>\n",
       "      <td>20</td>\n",
       "      <td>-8.0</td>\n",
       "      <td>11.046749</td>\n",
       "      <td>46.009134</td>\n",
       "      <td>original</td>\n",
       "    </tr>\n",
       "    <tr>\n",
       "      <th>...</th>\n",
       "      <td>...</td>\n",
       "      <td>...</td>\n",
       "      <td>...</td>\n",
       "      <td>...</td>\n",
       "      <td>...</td>\n",
       "      <td>...</td>\n",
       "      <td>...</td>\n",
       "    </tr>\n",
       "    <tr>\n",
       "      <th>1749</th>\n",
       "      <td>2008-03-14 16:00:54</td>\n",
       "      <td>3</td>\n",
       "      <td>14</td>\n",
       "      <td>4.4</td>\n",
       "      <td>11.040586</td>\n",
       "      <td>46.011711</td>\n",
       "      <td>predicted</td>\n",
       "    </tr>\n",
       "    <tr>\n",
       "      <th>1750</th>\n",
       "      <td>2008-03-14 20:01:53</td>\n",
       "      <td>3</td>\n",
       "      <td>14</td>\n",
       "      <td>4.7</td>\n",
       "      <td>11.040606</td>\n",
       "      <td>46.011707</td>\n",
       "      <td>predicted</td>\n",
       "    </tr>\n",
       "    <tr>\n",
       "      <th>1751</th>\n",
       "      <td>2008-03-15 00:03:05</td>\n",
       "      <td>3</td>\n",
       "      <td>15</td>\n",
       "      <td>3.8</td>\n",
       "      <td>11.039993</td>\n",
       "      <td>46.011780</td>\n",
       "      <td>predicted</td>\n",
       "    </tr>\n",
       "    <tr>\n",
       "      <th>1752</th>\n",
       "      <td>2008-03-15 04:02:21</td>\n",
       "      <td>3</td>\n",
       "      <td>15</td>\n",
       "      <td>1.0</td>\n",
       "      <td>11.039434</td>\n",
       "      <td>46.011803</td>\n",
       "      <td>predicted</td>\n",
       "    </tr>\n",
       "    <tr>\n",
       "      <th>1753</th>\n",
       "      <td>2008-03-15 08:01:37</td>\n",
       "      <td>3</td>\n",
       "      <td>15</td>\n",
       "      <td>2.2</td>\n",
       "      <td>11.039803</td>\n",
       "      <td>46.011806</td>\n",
       "      <td>predicted</td>\n",
       "    </tr>\n",
       "  </tbody>\n",
       "</table>\n",
       "<p>1754 rows × 7 columns</p>\n",
       "</div>"
      ],
      "text/plain": [
       "               timestamp  month  day  external-temperature  longitude  \\\n",
       "0    2007-10-19 16:02:55     10   19                  -0.6  11.047242   \n",
       "1    2007-10-19 20:01:47     10   19                  -3.6  11.048442   \n",
       "2    2007-10-20 00:01:11     10   20                  11.4  11.047115   \n",
       "3    2007-10-20 04:00:55     10   20                  -7.3  11.048017   \n",
       "4    2007-10-20 08:00:55     10   20                  -8.0  11.046749   \n",
       "...                  ...    ...  ...                   ...        ...   \n",
       "1749 2008-03-14 16:00:54      3   14                   4.4  11.040586   \n",
       "1750 2008-03-14 20:01:53      3   14                   4.7  11.040606   \n",
       "1751 2008-03-15 00:03:05      3   15                   3.8  11.039993   \n",
       "1752 2008-03-15 04:02:21      3   15                   1.0  11.039434   \n",
       "1753 2008-03-15 08:01:37      3   15                   2.2  11.039803   \n",
       "\n",
       "       latitude         id  \n",
       "0     46.010533   original  \n",
       "1     46.008974   original  \n",
       "2     46.009779   original  \n",
       "3     46.008876   original  \n",
       "4     46.009134   original  \n",
       "...         ...        ...  \n",
       "1749  46.011711  predicted  \n",
       "1750  46.011707  predicted  \n",
       "1751  46.011780  predicted  \n",
       "1752  46.011803  predicted  \n",
       "1753  46.011806  predicted  \n",
       "\n",
       "[1754 rows x 7 columns]"
      ]
     },
     "execution_count": 9,
     "metadata": {},
     "output_type": "execute_result"
    }
   ],
   "source": [
    "# Generate CSV file analyzing testing set results\n",
    "def graph_regressive(model, window, url_dest):\n",
    "    test_df = window.test_df\n",
    "    test_df['timestamp'] = window.timeline[int(len(window.orig_df)*0.7):]\n",
    "\n",
    "    initial_df = test_df[['timestamp', 'month', 'day', 'external-temperature', 'longitude', 'latitude']]\n",
    "    initial_df['id'] = ['original' for _ in range(len(initial_df))]\n",
    "\n",
    "    data = {\n",
    "        'timestamp': [],\n",
    "        'month': [],\n",
    "        'day': [],\n",
    "        'external-temperature': [],\n",
    "        'longitude': [],\n",
    "        'latitude': [],\n",
    "        'id': []\n",
    "    }\n",
    "\n",
    "    for i in range(len(initial_df)):\n",
    "        section = initial_df.iloc[i]\n",
    "\n",
    "        timestamp = section['timestamp']\n",
    "        month = (section['month'] - window.train_df['month'].mean())/window.train_df['month'].std()\n",
    "        day = (section['day'] - window.train_df['day'].mean())/window.train_df['day'].std()\n",
    "        external_temp = (section['external-temperature'] - window.train_df['external-temperature'].mean())/window.train_df['external-temperature'].std()\n",
    "\n",
    "        if isinstance(model, tf.keras.Sequential):\n",
    "            output_fields = model(np.array([external_temp, month, day]).reshape([1, 1, 3]))*window.train_df[['longitude', 'latitude']].std() + window.train_df[['longitude', 'latitude']].mean()\n",
    "            output_fields = output_fields.numpy()[0][0]\n",
    "        elif isinstance(model, sklearn.neighbors.KNeighborsRegressor):\n",
    "            output_fields = model.predict([[external_temp, month, day]])[0]*window.train_df[['longitude', 'latitude']].std() + window.train_df[['longitude', 'latitude']].mean()\n",
    "            output_fields = output_fields.values\n",
    "\n",
    "        longitude = output_fields[0]\n",
    "        latitude = output_fields[1]\n",
    "        id = 'predicted'\n",
    "\n",
    "        data['timestamp'].append(timestamp)\n",
    "        data['month'].append(section['month'])\n",
    "        data['day'].append(section['day'])\n",
    "        data['external-temperature'].append(section['external-temperature'])\n",
    "        data['longitude'].append(longitude)\n",
    "        data['latitude'].append(latitude)\n",
    "        data['id'].append(id)\n",
    "\n",
    "    add_on_df = pd.DataFrame(data)\n",
    "    \n",
    "    full_df = pd.concat([initial_df, add_on_df], ignore_index=True)\n",
    "    full_df.to_csv(url_dest, index=False)\n",
    "\n",
    "    return full_df\n",
    "\n",
    "graph_regressive(regressive_model, regressive_window, f'CSVFiles/TestPerformanceCSV/{species}/{file_name}_regressive_EdgeAnalysis.csv')"
   ]
  },
  {
   "cell_type": "markdown",
   "metadata": {},
   "source": [
    "### Reveresed Regressive"
   ]
  },
  {
   "cell_type": "code",
   "execution_count": 10,
   "metadata": {},
   "outputs": [
    {
     "name": "stdout",
     "output_type": "stream",
     "text": [
      "Epoch 1/20\n"
     ]
    },
    {
     "name": "stderr",
     "output_type": "stream",
     "text": [
      "c:\\Users\\Imper\\AppData\\Local\\Programs\\Python\\Python312\\Lib\\site-packages\\keras\\src\\layers\\core\\dense.py:87: UserWarning: Do not pass an `input_shape`/`input_dim` argument to a layer. When using Sequential models, prefer using an `Input(shape)` object as the first layer in the model instead.\n",
      "  super().__init__(activity_regularizer=activity_regularizer, **kwargs)\n"
     ]
    },
    {
     "name": "stdout",
     "output_type": "stream",
     "text": [
      "\u001b[1m64/64\u001b[0m \u001b[32m━━━━━━━━━━━━━━━━━━━━\u001b[0m\u001b[37m\u001b[0m \u001b[1m2s\u001b[0m 4ms/step - loss: 0.6962 - mean_absolute_error: 0.6248 - mean_squared_error: 0.6962\n",
      "Epoch 2/20\n",
      "\u001b[1m26/64\u001b[0m \u001b[32m━━━━━━━━\u001b[0m\u001b[37m━━━━━━━━━━━━\u001b[0m \u001b[1m0s\u001b[0m 4ms/step - loss: 0.5366 - mean_absolute_error: 0.5206 - mean_squared_error: 0.5366"
     ]
    },
    {
     "name": "stderr",
     "output_type": "stream",
     "text": [
      "c:\\Users\\Imper\\AppData\\Local\\Programs\\Python\\Python312\\Lib\\site-packages\\keras\\src\\callbacks\\early_stopping.py:155: UserWarning: Early stopping conditioned on metric `val_loss` which is not available. Available metrics are: loss,mean_absolute_error,mean_squared_error\n",
      "  current = self.get_monitor_value(logs)\n"
     ]
    },
    {
     "name": "stdout",
     "output_type": "stream",
     "text": [
      "\u001b[1m64/64\u001b[0m \u001b[32m━━━━━━━━━━━━━━━━━━━━\u001b[0m\u001b[37m\u001b[0m \u001b[1m0s\u001b[0m 4ms/step - loss: 0.5358 - mean_absolute_error: 0.5176 - mean_squared_error: 0.5358\n",
      "Epoch 3/20\n",
      "\u001b[1m64/64\u001b[0m \u001b[32m━━━━━━━━━━━━━━━━━━━━\u001b[0m\u001b[37m\u001b[0m \u001b[1m0s\u001b[0m 4ms/step - loss: 0.4769 - mean_absolute_error: 0.4833 - mean_squared_error: 0.4769\n",
      "Epoch 4/20\n",
      "\u001b[1m64/64\u001b[0m \u001b[32m━━━━━━━━━━━━━━━━━━━━\u001b[0m\u001b[37m\u001b[0m \u001b[1m0s\u001b[0m 4ms/step - loss: 0.4551 - mean_absolute_error: 0.4751 - mean_squared_error: 0.4551\n",
      "Epoch 5/20\n",
      "\u001b[1m64/64\u001b[0m \u001b[32m━━━━━━━━━━━━━━━━━━━━\u001b[0m\u001b[37m\u001b[0m \u001b[1m0s\u001b[0m 4ms/step - loss: 0.4319 - mean_absolute_error: 0.4603 - mean_squared_error: 0.4319\n",
      "Epoch 6/20\n",
      "\u001b[1m64/64\u001b[0m \u001b[32m━━━━━━━━━━━━━━━━━━━━\u001b[0m\u001b[37m\u001b[0m \u001b[1m0s\u001b[0m 4ms/step - loss: 0.4180 - mean_absolute_error: 0.4445 - mean_squared_error: 0.4180\n",
      "Epoch 7/20\n",
      "\u001b[1m64/64\u001b[0m \u001b[32m━━━━━━━━━━━━━━━━━━━━\u001b[0m\u001b[37m\u001b[0m \u001b[1m0s\u001b[0m 4ms/step - loss: 0.4384 - mean_absolute_error: 0.4543 - mean_squared_error: 0.4384\n",
      "Epoch 8/20\n",
      "\u001b[1m64/64\u001b[0m \u001b[32m━━━━━━━━━━━━━━━━━━━━\u001b[0m\u001b[37m\u001b[0m \u001b[1m0s\u001b[0m 4ms/step - loss: 0.4203 - mean_absolute_error: 0.4406 - mean_squared_error: 0.4203\n",
      "Epoch 9/20\n",
      "\u001b[1m64/64\u001b[0m \u001b[32m━━━━━━━━━━━━━━━━━━━━\u001b[0m\u001b[37m\u001b[0m \u001b[1m0s\u001b[0m 4ms/step - loss: 0.3836 - mean_absolute_error: 0.4150 - mean_squared_error: 0.3836\n",
      "Epoch 10/20\n",
      "\u001b[1m64/64\u001b[0m \u001b[32m━━━━━━━━━━━━━━━━━━━━\u001b[0m\u001b[37m\u001b[0m \u001b[1m0s\u001b[0m 4ms/step - loss: 0.4122 - mean_absolute_error: 0.4296 - mean_squared_error: 0.4122\n",
      "Epoch 11/20\n",
      "\u001b[1m64/64\u001b[0m \u001b[32m━━━━━━━━━━━━━━━━━━━━\u001b[0m\u001b[37m\u001b[0m \u001b[1m0s\u001b[0m 4ms/step - loss: 0.4371 - mean_absolute_error: 0.4303 - mean_squared_error: 0.4371\n",
      "Epoch 12/20\n",
      "\u001b[1m64/64\u001b[0m \u001b[32m━━━━━━━━━━━━━━━━━━━━\u001b[0m\u001b[37m\u001b[0m \u001b[1m0s\u001b[0m 4ms/step - loss: 0.3731 - mean_absolute_error: 0.4018 - mean_squared_error: 0.3731\n",
      "Epoch 13/20\n",
      "\u001b[1m64/64\u001b[0m \u001b[32m━━━━━━━━━━━━━━━━━━━━\u001b[0m\u001b[37m\u001b[0m \u001b[1m0s\u001b[0m 4ms/step - loss: 0.3557 - mean_absolute_error: 0.3960 - mean_squared_error: 0.3557\n",
      "Epoch 14/20\n",
      "\u001b[1m64/64\u001b[0m \u001b[32m━━━━━━━━━━━━━━━━━━━━\u001b[0m\u001b[37m\u001b[0m \u001b[1m0s\u001b[0m 4ms/step - loss: 0.3636 - mean_absolute_error: 0.3888 - mean_squared_error: 0.3636\n",
      "Epoch 15/20\n",
      "\u001b[1m64/64\u001b[0m \u001b[32m━━━━━━━━━━━━━━━━━━━━\u001b[0m\u001b[37m\u001b[0m \u001b[1m0s\u001b[0m 4ms/step - loss: 0.3668 - mean_absolute_error: 0.3850 - mean_squared_error: 0.3668\n",
      "Epoch 16/20\n",
      "\u001b[1m64/64\u001b[0m \u001b[32m━━━━━━━━━━━━━━━━━━━━\u001b[0m\u001b[37m\u001b[0m \u001b[1m1s\u001b[0m 6ms/step - loss: 0.3513 - mean_absolute_error: 0.3859 - mean_squared_error: 0.3513\n",
      "Epoch 17/20\n",
      "\u001b[1m64/64\u001b[0m \u001b[32m━━━━━━━━━━━━━━━━━━━━\u001b[0m\u001b[37m\u001b[0m \u001b[1m0s\u001b[0m 6ms/step - loss: 0.3471 - mean_absolute_error: 0.3813 - mean_squared_error: 0.3471\n",
      "Epoch 18/20\n",
      "\u001b[1m64/64\u001b[0m \u001b[32m━━━━━━━━━━━━━━━━━━━━\u001b[0m\u001b[37m\u001b[0m \u001b[1m1s\u001b[0m 7ms/step - loss: 0.3475 - mean_absolute_error: 0.3853 - mean_squared_error: 0.3475\n",
      "Epoch 19/20\n",
      "\u001b[1m64/64\u001b[0m \u001b[32m━━━━━━━━━━━━━━━━━━━━\u001b[0m\u001b[37m\u001b[0m \u001b[1m0s\u001b[0m 5ms/step - loss: 0.3461 - mean_absolute_error: 0.3779 - mean_squared_error: 0.3461\n",
      "Epoch 20/20\n",
      "\u001b[1m64/64\u001b[0m \u001b[32m━━━━━━━━━━━━━━━━━━━━\u001b[0m\u001b[37m\u001b[0m \u001b[1m0s\u001b[0m 5ms/step - loss: 0.3491 - mean_absolute_error: 0.3783 - mean_squared_error: 0.3491\n"
     ]
    },
    {
     "data": {
      "text/plain": [
       "<keras.src.callbacks.history.History at 0x17eb6ac4050>"
      ]
     },
     "execution_count": 10,
     "metadata": {},
     "output_type": "execute_result"
    }
   ],
   "source": [
    "reversed_regressive_model = tf.keras.models.Sequential([\n",
    "    tf.keras.layers.Dense(256, input_shape=(1,3), activation='relu'),\n",
    "    tf.keras.layers.Dense(128, activation='relu'),\n",
    "    tf.keras.layers.Dense(128, activation='relu'),\n",
    "    tf.keras.layers.Dense(2)\n",
    "])\n",
    "\n",
    "reversed_regressive_window.model_compilation_and_fitting(reversed_regressive_model)"
   ]
  },
  {
   "cell_type": "code",
   "execution_count": 11,
   "metadata": {},
   "outputs": [
    {
     "name": "stdout",
     "output_type": "stream",
     "text": [
      "\u001b[1m28/28\u001b[0m \u001b[32m━━━━━━━━━━━━━━━━━━━━\u001b[0m\u001b[37m\u001b[0m \u001b[1m0s\u001b[0m 3ms/step - loss: 2.3532 - mean_absolute_error: 1.2645 - mean_squared_error: 2.3532\n"
     ]
    }
   ],
   "source": [
    "results['Reversed Regressive Model'] = reversed_regressive_model.evaluate(reversed_regressive_window.test_input, reversed_regressive_window.test_label, verbose=1, return_dict=True)"
   ]
  },
  {
   "cell_type": "code",
   "execution_count": 12,
   "metadata": {},
   "outputs": [
    {
     "data": {
      "text/plain": [
       "{'loss': 2.2566452026367188,\n",
       " 'mean_absolute_error': 1.1859629154205322,\n",
       " 'mean_squared_error': 2.2566452026367188}"
      ]
     },
     "execution_count": 12,
     "metadata": {},
     "output_type": "execute_result"
    }
   ],
   "source": [
    "results['Reversed Regressive Model']"
   ]
  },
  {
   "cell_type": "code",
   "execution_count": 13,
   "metadata": {},
   "outputs": [],
   "source": [
    "# Input ordering\n",
    "reversed_original_output = reversed_regressive_window.test_label\n",
    "reversed_original_output = reversed_original_output.reshape((reversed_original_output.shape[0], reversed_original_output.shape[-1])) #*reversed_regressive_window.train_df[['longitude', 'latitude']].std().values + reversed_regressive_window.train_df[['longitude', 'latitude']].mean().values\n",
    "reversed_predicted_output = regressive_model(regressive_window.test_input).numpy()\n",
    "reversed_predicted_output = reversed_predicted_output.reshape((reversed_predicted_output.shape[0], reversed_predicted_output.shape[-1])) #*reversed_regressive_window.train_df[['longitude', 'latitude']].std().values + reversed_regressive_window.train_df[['longitude', 'latitude']].mean().values\n",
    "\n",
    "# Statistics gathering\n",
    "mae_values = list(mean_absolute_error(reversed_original_output, reversed_predicted_output, multioutput='raw_values'))\n",
    "mae_values = {coord_name: coord_value for coord_name, coord_value in zip(['mae_longitude', 'mae_latitude'], mae_values)}\n",
    "mse_values = list(mean_squared_error(reversed_original_output, reversed_predicted_output, multioutput='raw_values'))\n",
    "mse_values = {coord_name: coord_value for coord_name, coord_value in zip(['mse_longitude', 'mse_latitude'], mse_values)}\n",
    "\n",
    "# Apply statistics to results\n",
    "results['Reversed Regressive Model'].update(mae_values)\n",
    "results['Reversed Regressive Model'].update(mse_values)"
   ]
  },
  {
   "cell_type": "code",
   "execution_count": 14,
   "metadata": {},
   "outputs": [],
   "source": [
    "reversed_regressive_window.csv_extension(f'{species}/{file_name}_reversed_regressive', species, reversed_regressive_model)"
   ]
  },
  {
   "cell_type": "code",
   "execution_count": 15,
   "metadata": {},
   "outputs": [],
   "source": [
    "reversed_regressive_model.save(f'ModelFiles/SavedModels/{species}/{file_name}_reversed_regressive.keras')"
   ]
  },
  {
   "cell_type": "code",
   "execution_count": 16,
   "metadata": {},
   "outputs": [
    {
     "name": "stderr",
     "output_type": "stream",
     "text": [
      "C:\\Users\\Imper\\AppData\\Local\\Temp\\ipykernel_40020\\3724138723.py:4: SettingWithCopyWarning: \n",
      "A value is trying to be set on a copy of a slice from a DataFrame.\n",
      "Try using .loc[row_indexer,col_indexer] = value instead\n",
      "\n",
      "See the caveats in the documentation: https://pandas.pydata.org/pandas-docs/stable/user_guide/indexing.html#returning-a-view-versus-a-copy\n",
      "  test_df['timestamp'] = window.timeline[int(len(window.orig_df)*0.7):]\n"
     ]
    },
    {
     "data": {
      "text/html": [
       "<div>\n",
       "<style scoped>\n",
       "    .dataframe tbody tr th:only-of-type {\n",
       "        vertical-align: middle;\n",
       "    }\n",
       "\n",
       "    .dataframe tbody tr th {\n",
       "        vertical-align: top;\n",
       "    }\n",
       "\n",
       "    .dataframe thead th {\n",
       "        text-align: right;\n",
       "    }\n",
       "</style>\n",
       "<table border=\"1\" class=\"dataframe\">\n",
       "  <thead>\n",
       "    <tr style=\"text-align: right;\">\n",
       "      <th></th>\n",
       "      <th>timestamp</th>\n",
       "      <th>month</th>\n",
       "      <th>day</th>\n",
       "      <th>external-temperature</th>\n",
       "      <th>longitude</th>\n",
       "      <th>latitude</th>\n",
       "      <th>id</th>\n",
       "    </tr>\n",
       "  </thead>\n",
       "  <tbody>\n",
       "    <tr>\n",
       "      <th>0</th>\n",
       "      <td>2007-04-07 16:00:50</td>\n",
       "      <td>4</td>\n",
       "      <td>7</td>\n",
       "      <td>5.7</td>\n",
       "      <td>11.048319</td>\n",
       "      <td>46.010373</td>\n",
       "      <td>original</td>\n",
       "    </tr>\n",
       "    <tr>\n",
       "      <th>1</th>\n",
       "      <td>2007-04-07 12:01:42</td>\n",
       "      <td>4</td>\n",
       "      <td>7</td>\n",
       "      <td>5.0</td>\n",
       "      <td>11.048023</td>\n",
       "      <td>46.012476</td>\n",
       "      <td>original</td>\n",
       "    </tr>\n",
       "    <tr>\n",
       "      <th>2</th>\n",
       "      <td>2007-04-07 08:03:09</td>\n",
       "      <td>4</td>\n",
       "      <td>7</td>\n",
       "      <td>2.6</td>\n",
       "      <td>11.047479</td>\n",
       "      <td>46.011052</td>\n",
       "      <td>original</td>\n",
       "    </tr>\n",
       "    <tr>\n",
       "      <th>3</th>\n",
       "      <td>2007-04-07 04:00:53</td>\n",
       "      <td>4</td>\n",
       "      <td>7</td>\n",
       "      <td>2.6</td>\n",
       "      <td>11.046926</td>\n",
       "      <td>46.009605</td>\n",
       "      <td>original</td>\n",
       "    </tr>\n",
       "    <tr>\n",
       "      <th>4</th>\n",
       "      <td>2007-04-07 00:00:54</td>\n",
       "      <td>4</td>\n",
       "      <td>7</td>\n",
       "      <td>3.4</td>\n",
       "      <td>11.046919</td>\n",
       "      <td>46.010993</td>\n",
       "      <td>original</td>\n",
       "    </tr>\n",
       "    <tr>\n",
       "      <th>...</th>\n",
       "      <td>...</td>\n",
       "      <td>...</td>\n",
       "      <td>...</td>\n",
       "      <td>...</td>\n",
       "      <td>...</td>\n",
       "      <td>...</td>\n",
       "      <td>...</td>\n",
       "    </tr>\n",
       "    <tr>\n",
       "      <th>1749</th>\n",
       "      <td>2006-11-13 04:01:23</td>\n",
       "      <td>11</td>\n",
       "      <td>13</td>\n",
       "      <td>-4.2</td>\n",
       "      <td>11.046472</td>\n",
       "      <td>46.011829</td>\n",
       "      <td>predicted</td>\n",
       "    </tr>\n",
       "    <tr>\n",
       "      <th>1750</th>\n",
       "      <td>2006-11-13 00:02:24</td>\n",
       "      <td>11</td>\n",
       "      <td>13</td>\n",
       "      <td>-3.5</td>\n",
       "      <td>11.046375</td>\n",
       "      <td>46.011765</td>\n",
       "      <td>predicted</td>\n",
       "    </tr>\n",
       "    <tr>\n",
       "      <th>1751</th>\n",
       "      <td>2006-11-12 20:03:04</td>\n",
       "      <td>11</td>\n",
       "      <td>12</td>\n",
       "      <td>0.0</td>\n",
       "      <td>11.046019</td>\n",
       "      <td>46.011520</td>\n",
       "      <td>predicted</td>\n",
       "    </tr>\n",
       "    <tr>\n",
       "      <th>1752</th>\n",
       "      <td>2006-11-12 16:03:04</td>\n",
       "      <td>11</td>\n",
       "      <td>12</td>\n",
       "      <td>2.6</td>\n",
       "      <td>11.045450</td>\n",
       "      <td>46.011238</td>\n",
       "      <td>predicted</td>\n",
       "    </tr>\n",
       "    <tr>\n",
       "      <th>1753</th>\n",
       "      <td>2006-11-12 12:03:04</td>\n",
       "      <td>11</td>\n",
       "      <td>12</td>\n",
       "      <td>4.2</td>\n",
       "      <td>11.045214</td>\n",
       "      <td>46.011089</td>\n",
       "      <td>predicted</td>\n",
       "    </tr>\n",
       "  </tbody>\n",
       "</table>\n",
       "<p>1754 rows × 7 columns</p>\n",
       "</div>"
      ],
      "text/plain": [
       "               timestamp  month  day  external-temperature  longitude  \\\n",
       "0    2007-04-07 16:00:50      4    7                   5.7  11.048319   \n",
       "1    2007-04-07 12:01:42      4    7                   5.0  11.048023   \n",
       "2    2007-04-07 08:03:09      4    7                   2.6  11.047479   \n",
       "3    2007-04-07 04:00:53      4    7                   2.6  11.046926   \n",
       "4    2007-04-07 00:00:54      4    7                   3.4  11.046919   \n",
       "...                  ...    ...  ...                   ...        ...   \n",
       "1749 2006-11-13 04:01:23     11   13                  -4.2  11.046472   \n",
       "1750 2006-11-13 00:02:24     11   13                  -3.5  11.046375   \n",
       "1751 2006-11-12 20:03:04     11   12                   0.0  11.046019   \n",
       "1752 2006-11-12 16:03:04     11   12                   2.6  11.045450   \n",
       "1753 2006-11-12 12:03:04     11   12                   4.2  11.045214   \n",
       "\n",
       "       latitude         id  \n",
       "0     46.010373   original  \n",
       "1     46.012476   original  \n",
       "2     46.011052   original  \n",
       "3     46.009605   original  \n",
       "4     46.010993   original  \n",
       "...         ...        ...  \n",
       "1749  46.011829  predicted  \n",
       "1750  46.011765  predicted  \n",
       "1751  46.011520  predicted  \n",
       "1752  46.011238  predicted  \n",
       "1753  46.011089  predicted  \n",
       "\n",
       "[1754 rows x 7 columns]"
      ]
     },
     "execution_count": 16,
     "metadata": {},
     "output_type": "execute_result"
    }
   ],
   "source": [
    "graph_regressive(reversed_regressive_model, reversed_regressive_window, f'CSVFiles/TestPerformanceCSV/{species}/{file_name}_reversed_regressive_EdgeAnalysis.csv')"
   ]
  },
  {
   "cell_type": "markdown",
   "metadata": {},
   "source": [
    "### Final Results"
   ]
  },
  {
   "cell_type": "code",
   "execution_count": 17,
   "metadata": {},
   "outputs": [
    {
     "data": {
      "text/html": [
       "<div>\n",
       "<style scoped>\n",
       "    .dataframe tbody tr th:only-of-type {\n",
       "        vertical-align: middle;\n",
       "    }\n",
       "\n",
       "    .dataframe tbody tr th {\n",
       "        vertical-align: top;\n",
       "    }\n",
       "\n",
       "    .dataframe thead th {\n",
       "        text-align: right;\n",
       "    }\n",
       "</style>\n",
       "<table border=\"1\" class=\"dataframe\">\n",
       "  <thead>\n",
       "    <tr style=\"text-align: right;\">\n",
       "      <th></th>\n",
       "      <th>loss</th>\n",
       "      <th>mean_absolute_error</th>\n",
       "      <th>mean_squared_error</th>\n",
       "      <th>mae_longitude</th>\n",
       "      <th>mae_latitude</th>\n",
       "      <th>mse_longitude</th>\n",
       "      <th>mse_latitude</th>\n",
       "    </tr>\n",
       "  </thead>\n",
       "  <tbody>\n",
       "    <tr>\n",
       "      <th>Original Regressive Model</th>\n",
       "      <td>0.795170</td>\n",
       "      <td>0.652128</td>\n",
       "      <td>0.795170</td>\n",
       "      <td>0.494500</td>\n",
       "      <td>0.809757</td>\n",
       "      <td>0.557876</td>\n",
       "      <td>1.032464</td>\n",
       "    </tr>\n",
       "    <tr>\n",
       "      <th>Reversed Regressive Model</th>\n",
       "      <td>2.256645</td>\n",
       "      <td>1.185963</td>\n",
       "      <td>2.256645</td>\n",
       "      <td>1.487936</td>\n",
       "      <td>1.316857</td>\n",
       "      <td>2.856823</td>\n",
       "      <td>2.552893</td>\n",
       "    </tr>\n",
       "  </tbody>\n",
       "</table>\n",
       "</div>"
      ],
      "text/plain": [
       "                               loss  mean_absolute_error  mean_squared_error  \\\n",
       "Original Regressive Model  0.795170             0.652128            0.795170   \n",
       "Reversed Regressive Model  2.256645             1.185963            2.256645   \n",
       "\n",
       "                           mae_longitude  mae_latitude  mse_longitude  \\\n",
       "Original Regressive Model       0.494500      0.809757       0.557876   \n",
       "Reversed Regressive Model       1.487936      1.316857       2.856823   \n",
       "\n",
       "                           mse_latitude  \n",
       "Original Regressive Model      1.032464  \n",
       "Reversed Regressive Model      2.552893  "
      ]
     },
     "execution_count": 17,
     "metadata": {},
     "output_type": "execute_result"
    }
   ],
   "source": [
    "results_df = pd.DataFrame(results).T\n",
    "results_df.to_csv(f'ModelFiles/Statistics/{species}/{file_name}_test_data.csv', index_label='Model_Name')\n",
    "results_df"
   ]
  }
 ],
 "metadata": {
  "kernelspec": {
   "display_name": "Python 3",
   "language": "python",
   "name": "python3"
  },
  "language_info": {
   "codemirror_mode": {
    "name": "ipython",
    "version": 3
   },
   "file_extension": ".py",
   "mimetype": "text/x-python",
   "name": "python",
   "nbconvert_exporter": "python",
   "pygments_lexer": "ipython3",
   "version": "3.12.0"
  }
 },
 "nbformat": 4,
 "nbformat_minor": 2
}
