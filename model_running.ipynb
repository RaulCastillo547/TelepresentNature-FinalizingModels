{
 "cells": [
  {
   "cell_type": "code",
   "execution_count": 1,
   "metadata": {},
   "outputs": [],
   "source": [
    "import math\n",
    "\n",
    "import matplotlib.pyplot as plt\n",
    "import numpy as np\n",
    "import pandas as pd\n",
    "import sklearn\n",
    "import tensorflow as tf\n",
    "from sklearn.metrics import mean_absolute_error, mean_squared_error\n",
    "\n",
    "import auxiliaries as aux"
   ]
  },
  {
   "cell_type": "markdown",
   "metadata": {},
   "source": [
    "## Setup"
   ]
  },
  {
   "cell_type": "code",
   "execution_count": 2,
   "metadata": {},
   "outputs": [],
   "source": [
    "# Develop window for data separation\n",
    "species = 'Deer'\n",
    "file_name = 'GSM02927'\n",
    "\n",
    "years_to_predict = 1\n",
    "time_intervals = 3 if species == 'Moose' else 4\n",
    "\n",
    "future_window = aux.FuturePredictionWindow(species, file_name)\n",
    "past_window = aux.PastPredictionWindow(species, file_name)\n",
    "\n",
    "results = {}\n",
    "\n",
    "print('------Original Regressive Window------')\n",
    "print(f'Original Data Size: {len(future_window.orig_df)}')\n",
    "print(f'Training Data Size: {len(future_window.train_df)}')\n",
    "print(f'Testing Data Size: {len(future_window.test_df)}\\n')\n",
    "\n",
    "print(f'Training Mean:\\n{future_window.train_df.mean()}')\n",
    "print(f'Training Std. Dev.:\\n{future_window.train_df.std()}\\n')\n",
    "\n",
    "print('------Reversed Regressive Window------')\n",
    "print(f'Original Data Size: {len(past_window.orig_df)}')\n",
    "print(f'Training Data Size: {len(past_window.train_df)}')\n",
    "print(f'Testing Data Size: {len(past_window.test_df)}\\n')\n",
    "\n",
    "print(f'Training Mean:\\n{past_window.train_df.mean()}')\n",
    "print(f'Training Std. Dev.:\\n{past_window.train_df.std()}\\n')"
   ]
  },
  {
   "cell_type": "markdown",
   "metadata": {},
   "source": [
    "### Future-Prediction Regressive Model"
   ]
  },
  {
   "cell_type": "code",
   "execution_count": 3,
   "metadata": {},
   "outputs": [],
   "source": [
    "future_model = tf.keras.models.Sequential([\n",
    "    tf.keras.layers.Dense(256, input_shape=(1,3), activation='relu'),\n",
    "    tf.keras.layers.Dense(128, activation='relu'),\n",
    "    tf.keras.layers.Dense(128, activation='relu'),\n",
    "    tf.keras.layers.Dense(2)\n",
    "])\n",
    "\n",
    "future_window.model_compilation_and_fitting(future_model)"
   ]
  },
  {
   "cell_type": "code",
   "execution_count": 4,
   "metadata": {},
   "outputs": [],
   "source": [
    "results['Future-Prediction Regressive Model'] = future_model.evaluate(future_window.test_input, future_window.test_label, verbose=1, return_dict=True)"
   ]
  },
  {
   "cell_type": "code",
   "execution_count": 5,
   "metadata": {},
   "outputs": [],
   "source": [
    "# Generate CSV file analyzing testing set results\n",
    "def graph_regressive(model, window, url_dest):\n",
    "    test_df = window.test_df\n",
    "    test_df['timestamp'] = window.timeline[int(len(window.orig_df)*0.7):]\n",
    "\n",
    "    initial_df = test_df[['timestamp', 'month', 'day', 'external-temperature', 'longitude', 'latitude']]\n",
    "    initial_df['id'] = ['original' for _ in range(len(initial_df))]\n",
    "\n",
    "    data = {\n",
    "        'timestamp': [],\n",
    "        'month': [],\n",
    "        'day': [],\n",
    "        'external-temperature': [],\n",
    "        'longitude': [],\n",
    "        'latitude': [],\n",
    "        'id': []\n",
    "    }\n",
    "\n",
    "    for i in range(len(initial_df)):\n",
    "        section = initial_df.iloc[i]\n",
    "\n",
    "        timestamp = section['timestamp']\n",
    "        month = (section['month'] - window.train_df['month'].mean())/window.train_df['month'].std()\n",
    "        day = (section['day'] - window.train_df['day'].mean())/window.train_df['day'].std()\n",
    "        external_temp = (section['external-temperature'] - window.train_df['external-temperature'].mean())/window.train_df['external-temperature'].std()\n",
    "\n",
    "        if isinstance(model, tf.keras.Sequential):\n",
    "            output_fields = model(np.array([external_temp, month, day]).reshape([1, 1, 3])).numpy()*window.train_df[['longitude', 'latitude']].std().values + window.train_df[['longitude', 'latitude']].mean().values\n",
    "            output_fields = output_fields[0][0]\n",
    "        elif isinstance(model, sklearn.neighbors.KNeighborsRegressor):\n",
    "            output_fields = model.predict([[external_temp, month, day]])[0]*window.train_df[['longitude', 'latitude']].std() + window.train_df[['longitude', 'latitude']].mean()\n",
    "            output_fields = output_fields.values\n",
    "\n",
    "        longitude = output_fields[0]\n",
    "        latitude = output_fields[1]\n",
    "        id = 'predicted'\n",
    "\n",
    "        data['timestamp'].append(timestamp)\n",
    "        data['month'].append(section['month'])\n",
    "        data['day'].append(section['day'])\n",
    "        data['external-temperature'].append(section['external-temperature'])\n",
    "        data['longitude'].append(longitude)\n",
    "        data['latitude'].append(latitude)\n",
    "        data['id'].append(id)\n",
    "\n",
    "    add_on_df = pd.DataFrame(data)\n",
    "    \n",
    "    full_df = pd.concat([initial_df, add_on_df], ignore_index=True)\n",
    "    full_df.to_csv(url_dest, index=False)\n",
    "\n",
    "    return full_df\n",
    "\n",
    "future_test_results_df = graph_regressive(future_model, future_window, f'CSVFiles/TestPerformanceCSV/TestPredictions/{species}/{file_name}_futureprediction_testpredictions.csv')"
   ]
  },
  {
   "cell_type": "code",
   "execution_count": 6,
   "metadata": {},
   "outputs": [],
   "source": [
    "future_test_results_df"
   ]
  },
  {
   "cell_type": "code",
   "execution_count": 7,
   "metadata": {},
   "outputs": [],
   "source": [
    "important_columns = set(future_test_results_df.columns)\n",
    "important_columns.remove('timestamp')\n",
    "important_columns.remove('id')\n",
    "\n",
    "normed_future_test_results_df = future_test_results_df.copy(deep=True)\n",
    "normed_future_test_results_df[list(important_columns)] = (future_test_results_df[list(important_columns)] - future_window.train_df[list(important_columns)].mean())/future_window.train_df[list(important_columns)].std()\n",
    "normed_future_test_results_df"
   ]
  },
  {
   "cell_type": "code",
   "execution_count": 8,
   "metadata": {},
   "outputs": [],
   "source": [
    "# Defining Input and Output Labels\n",
    "input_columns = ['month', 'day', 'external-temperature']\n",
    "output_columns = ['longitude', 'latitude']\n",
    "\n",
    "# Input ordering\n",
    "future_original_output = normed_future_test_results_df[normed_future_test_results_df.id == 'original'][output_columns].values\n",
    "future_original_output = future_original_output.reshape((future_original_output.shape[0], future_original_output.shape[-1]))\n",
    "future_predicted_output = normed_future_test_results_df[normed_future_test_results_df.id == 'predicted'][output_columns].values\n",
    "future_predicted_output = future_predicted_output.reshape((future_predicted_output.shape[0], future_predicted_output.shape[-1]))\n",
    "\n",
    "# Statistics gathering\n",
    "mae_values = list(mean_absolute_error(future_original_output, future_predicted_output, multioutput='raw_values'))\n",
    "mae_values = {coord_name: coord_value for coord_name, coord_value in zip(['mae_longitude', 'mae_latitude'], mae_values)}\n",
    "\n",
    "mse_values = list(mean_squared_error(future_original_output, future_predicted_output, multioutput='raw_values'))\n",
    "mse_values = {coord_name: coord_value for coord_name, coord_value in zip(['mse_longitude', 'mse_latitude'], mse_values)}\n",
    "\n",
    "# Apply statistics to results\n",
    "results['Future-Prediction Regressive Model'].update(mae_values)\n",
    "results['Future-Prediction Regressive Model'].update(mse_values)"
   ]
  },
  {
   "cell_type": "code",
   "execution_count": 9,
   "metadata": {},
   "outputs": [],
   "source": [
    "results['Future-Prediction Regressive Model']"
   ]
  },
  {
   "cell_type": "code",
   "execution_count": 10,
   "metadata": {},
   "outputs": [],
   "source": [
    "# Histogram for Distance Errors\n",
    "future_distances = []\n",
    "unnormed_future_original_output = future_test_results_df[future_test_results_df['id'] == 'original'][output_columns].values\n",
    "unnormed_future_predicted_output = future_test_results_df[future_test_results_df['id'] == 'predicted'][output_columns].values\n",
    "\n",
    "r = 3958.756 + 636/5280 # Average radius of Earth to sea level plus elevation of Trentino\n",
    "for original_coord, predicted_coord in zip(unnormed_future_original_output, unnormed_future_predicted_output):\n",
    "    curr_d = 2*r*math.asin(\n",
    "        math.sqrt(\n",
    "            ((1-math.cos(math.radians(predicted_coord[1] - original_coord[1]))) \n",
    "             + math.cos(math.radians(predicted_coord[1]))*math.cos(math.radians(original_coord[1]))*(1-math.cos(math.radians(predicted_coord[0] - original_coord[0]))))/2))\n",
    "    future_distances.append(curr_d)\n",
    "\n",
    "future_distance_df = pd.DataFrame({'Distances': future_distances, 'Timestamp': future_test_results_df[future_test_results_df.id == 'original']['timestamp']})\n",
    "future_distance_df['Timestamp'] = pd.DatetimeIndex(future_distance_df['Timestamp'])"
   ]
  },
  {
   "cell_type": "code",
   "execution_count": 11,
   "metadata": {},
   "outputs": [],
   "source": [
    "hist, bins = np.histogram(future_distances, bins=12, range=(0, 3), density=True)"
   ]
  },
  {
   "cell_type": "code",
   "execution_count": 12,
   "metadata": {},
   "outputs": [],
   "source": [
    "# Histogram of future_distances\n",
    "con = plt.bar(bins[0:len(bins) - 1] + 0.125, hist*0.25, edgecolor='black', width=0.25)\n",
    "plt.title(f\"Distance Between Actual and Predicted Future Positions (n = {len(future_distances)})\")\n",
    "plt.xlabel(\"Distance (mi)\")\n",
    "plt.ylabel(\"Percentage of predictions in each group\")\n",
    "plt.show()"
   ]
  },
  {
   "cell_type": "code",
   "execution_count": 13,
   "metadata": {},
   "outputs": [],
   "source": [
    "month = 'January'\n",
    "month_to_date = {\n",
    "    'January': 1,\n",
    "    'February': 2,\n",
    "    'March': 3,\n",
    "    'April': 4,\n",
    "    'May': 5,\n",
    "    'June': 6,\n",
    "    'July': 7,\n",
    "    'August': 8,\n",
    "    'September': 9,\n",
    "    'October': 10,\n",
    "    'November': 11,\n",
    "    'December': 12\n",
    "}\n",
    "\n",
    "hist, bins = np.histogram(future_distance_df[future_distance_df['Timestamp'].dt.month == month_to_date[month]]['Distances'].values, bins=12, range=(0, 3), density=True)\n",
    "\n",
    "# Histogram of future_distances by month\n",
    "con = plt.bar(bins[0:len(bins) - 1] + 0.125, hist*0.25, edgecolor='black', width=0.25)\n",
    "plt.title(f\"Error Distances in {month} (n = {len(future_distance_df[future_distance_df['Timestamp'].dt.month == month_to_date[month]]['Distances'].values)})\")\n",
    "plt.xlabel(\"Distance (mi)\")\n",
    "plt.ylabel(\"Percentage of predictions in each group\")\n",
    "plt.show()"
   ]
  },
  {
   "cell_type": "code",
   "execution_count": 14,
   "metadata": {},
   "outputs": [],
   "source": [
    "future_window.csv_extension(f'{species}/{file_name}_futureprediction', species, future_model)"
   ]
  },
  {
   "cell_type": "code",
   "execution_count": 15,
   "metadata": {},
   "outputs": [],
   "source": [
    "future_model.save(f'ModelFiles/{species}/{file_name}_futureprediction.keras')"
   ]
  },
  {
   "cell_type": "markdown",
   "metadata": {},
   "source": [
    "### Past-Prediction Regressive"
   ]
  },
  {
   "cell_type": "code",
   "execution_count": 16,
   "metadata": {},
   "outputs": [],
   "source": [
    "past_model = tf.keras.models.Sequential([\n",
    "    tf.keras.layers.Dense(256, input_shape=(1,3), activation='relu'),\n",
    "    tf.keras.layers.Dense(128, activation='relu'),\n",
    "    tf.keras.layers.Dense(128, activation='relu'),\n",
    "    tf.keras.layers.Dense(2)\n",
    "])\n",
    "\n",
    "past_window.model_compilation_and_fitting(past_model)"
   ]
  },
  {
   "cell_type": "code",
   "execution_count": 17,
   "metadata": {},
   "outputs": [],
   "source": [
    "results['Past-Prediction Regressive Model'] = past_model.evaluate(past_window.test_input, past_window.test_label, verbose=1, return_dict=True)"
   ]
  },
  {
   "cell_type": "code",
   "execution_count": 18,
   "metadata": {},
   "outputs": [],
   "source": [
    "past_test_results_df = graph_regressive(past_model, past_window, f'CSVFiles/TestPerformanceCSV/TestPredictions/{species}/{file_name}_pastprediction_testpredictions.csv')"
   ]
  },
  {
   "cell_type": "code",
   "execution_count": 19,
   "metadata": {},
   "outputs": [],
   "source": [
    "past_test_results_df"
   ]
  },
  {
   "cell_type": "code",
   "execution_count": 20,
   "metadata": {},
   "outputs": [],
   "source": [
    "important_columns = set(past_test_results_df.columns)\n",
    "important_columns.remove('timestamp')\n",
    "important_columns.remove('id')\n",
    "\n",
    "normed_past_test_results_df = past_test_results_df.copy(deep=True)\n",
    "normed_past_test_results_df[list(important_columns)] = (past_test_results_df[list(important_columns)] - past_test_results_df[list(important_columns)].mean())/past_test_results_df[list(important_columns)].std()\n",
    "normed_past_test_results_df"
   ]
  },
  {
   "cell_type": "code",
   "execution_count": 21,
   "metadata": {},
   "outputs": [],
   "source": [
    "# Defining Input and Output Labels\n",
    "input_columns = ['month', 'day', 'external-temperature']\n",
    "output_columns = ['longitude', 'latitude']\n",
    "\n",
    "# Input ordering\n",
    "past_original_output = normed_past_test_results_df[normed_past_test_results_df.id == 'original'][output_columns].values\n",
    "past_original_output = past_original_output.reshape((past_original_output.shape[0], past_original_output.shape[-1]))\n",
    "past_predicted_output = normed_past_test_results_df[normed_past_test_results_df.id == 'predicted'][output_columns].values\n",
    "past_predicted_output = past_predicted_output.reshape((past_predicted_output.shape[0], past_predicted_output.shape[-1]))\n",
    "\n",
    "# Statistics gathering\n",
    "mae_values = list(mean_absolute_error(past_original_output, past_predicted_output, multioutput='raw_values'))\n",
    "mae_values = {coord_name: coord_value for coord_name, coord_value in zip(['mae_longitude', 'mae_latitude'], mae_values)}\n",
    "\n",
    "mse_values = list(mean_squared_error(past_original_output, past_predicted_output, multioutput='raw_values'))\n",
    "mse_values = {coord_name: coord_value for coord_name, coord_value in zip(['mse_longitude', 'mse_latitude'], mse_values)}\n",
    "\n",
    "# Apply statistics to results\n",
    "results['Past-Prediction Regressive Model'].update(mae_values)\n",
    "results['Past-Prediction Regressive Model'].update(mse_values)"
   ]
  },
  {
   "cell_type": "code",
   "execution_count": 22,
   "metadata": {},
   "outputs": [],
   "source": [
    "results['Past-Prediction Regressive Model']"
   ]
  },
  {
   "cell_type": "code",
   "execution_count": 23,
   "metadata": {},
   "outputs": [],
   "source": [
    "# Histogram for Distance Errors\n",
    "past_distances = []\n",
    "unnormed_past_original_output = past_test_results_df[past_test_results_df['id'] == 'original'][output_columns].values\n",
    "unnormed_past_predicted_output = past_test_results_df[past_test_results_df['id'] == 'predicted'][output_columns].values\n",
    "\n",
    "r = 3958.756 + 636/5280 # Average radius of Earth to sea level plus elevation of Trentino\n",
    "for original_coord, predicted_coord in zip(unnormed_past_original_output, unnormed_past_predicted_output):\n",
    "    curr_d = 2*r*math.asin(\n",
    "        math.sqrt(\n",
    "            ((1-math.cos(math.radians(predicted_coord[1] - original_coord[1]))) \n",
    "             + math.cos(math.radians(predicted_coord[1]))*math.cos(math.radians(original_coord[1]))*(1-math.cos(math.radians(predicted_coord[0] - original_coord[0]))))/2))\n",
    "    past_distances.append(curr_d)\n",
    "\n",
    "past_distance_df = pd.DataFrame({'Distances': past_distances, 'Timestamp': past_test_results_df[past_test_results_df.id == 'original']['timestamp']})\n",
    "past_distance_df['Timestamp'] = pd.DatetimeIndex(past_distance_df['Timestamp'])"
   ]
  },
  {
   "cell_type": "code",
   "execution_count": 24,
   "metadata": {},
   "outputs": [],
   "source": [
    "hist, bins = np.histogram(past_distances, bins=12, range=(0,3), density=True)"
   ]
  },
  {
   "cell_type": "code",
   "execution_count": 25,
   "metadata": {},
   "outputs": [],
   "source": [
    "# Histogram of distances\n",
    "con = plt.bar(bins[0:len(bins) - 1] + 0.125, hist*0.25, edgecolor='black', width=0.25)\n",
    "plt.title(f\"Distance Between Actual and Predicted Positions (n = {len(past_distances)})\")\n",
    "plt.xlabel(\"Distance (mi)\")\n",
    "plt.ylabel(\"Percentage of predictions in each group\")\n",
    "plt.show()"
   ]
  },
  {
   "cell_type": "code",
   "execution_count": 26,
   "metadata": {},
   "outputs": [],
   "source": [
    "month = 'January'\n",
    "month_to_date = {\n",
    "    'January': 1,\n",
    "    'February': 2,\n",
    "    'March': 3,\n",
    "    'April': 4,\n",
    "    'May': 5,\n",
    "    'June': 6,\n",
    "    'July': 7,\n",
    "    'August': 8,\n",
    "    'September': 9,\n",
    "    'October': 10,\n",
    "    'November': 11,\n",
    "    'December': 12\n",
    "}\n",
    "\n",
    "hist, bins = np.histogram(past_distance_df[past_distance_df['Timestamp'].dt.month == month_to_date[month]]['Distances'].values, bins=12, range=(0, 3), density=True)\n",
    "\n",
    "# Histogram of distances\n",
    "con = plt.bar(bins[0:len(bins) - 1] + 0.125, hist*0.25, edgecolor='black', width=0.25)\n",
    "plt.title(f\"Error Distances in {month} (n = {len(past_distance_df[past_distance_df['Timestamp'].dt.month == month_to_date[month]]['Distances'].values)})\")\n",
    "plt.xlabel(\"Distance (mi)\")\n",
    "plt.ylabel(\"Percentage of predictions in each group\")\n",
    "plt.show()"
   ]
  },
  {
   "cell_type": "code",
   "execution_count": 27,
   "metadata": {},
   "outputs": [],
   "source": [
    "past_window.csv_extension(f'{species}/{file_name}_pastprediction', species, past_model)"
   ]
  },
  {
   "cell_type": "code",
   "execution_count": 28,
   "metadata": {},
   "outputs": [],
   "source": [
    "past_model.save(f'ModelFiles/{species}/{file_name}_pastprediction.keras')"
   ]
  },
  {
   "cell_type": "markdown",
   "metadata": {},
   "source": [
    "### Final Results"
   ]
  },
  {
   "cell_type": "code",
   "execution_count": 29,
   "metadata": {},
   "outputs": [],
   "source": [
    "results_df = pd.DataFrame(results).T\n",
    "results_df.to_csv(f'TestPerformanceCSV/TestMetrics/{species}/{file_name}_testmetrics.csv', index_label='Model_Name')\n",
    "results_df"
   ]
  }
 ],
 "metadata": {
  "kernelspec": {
   "display_name": "Python 3",
   "language": "python",
   "name": "python3"
  },
  "language_info": {
   "codemirror_mode": {
    "name": "ipython",
    "version": 3
   },
   "file_extension": ".py",
   "mimetype": "text/x-python",
   "name": "python",
   "nbconvert_exporter": "python",
   "pygments_lexer": "ipython3",
   "version": "3.12.6"
  }
 },
 "nbformat": 4,
 "nbformat_minor": 2
}
