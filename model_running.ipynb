{
 "cells": [
  {
   "cell_type": "code",
   "execution_count": 1,
   "metadata": {},
   "outputs": [],
   "source": [
    "import math\n",
    "\n",
    "import IPython\n",
    "import IPython.display\n",
    "import keras\n",
    "import matplotlib as mpl\n",
    "import matplotlib.pyplot as plt\n",
    "import numpy as np\n",
    "import pandas as pd\n",
    "import sklearn\n",
    "import tensorflow as tf\n",
    "from sklearn.metrics import mean_absolute_error, mean_squared_error\n",
    "\n",
    "import auxiliaries as aux"
   ]
  },
  {
   "cell_type": "markdown",
   "metadata": {},
   "source": [
    "## Setup"
   ]
  },
  {
   "cell_type": "code",
   "execution_count": 2,
   "metadata": {},
   "outputs": [
    {
     "name": "stdout",
     "output_type": "stream",
     "text": [
      "------Original Regressive Window------\n",
      "Original Data Size: 2923\n",
      "Training Data Size: 2046\n",
      "Testing Data Size: 877\n",
      "\n",
      "Training Mean:\n",
      "external-temperature    16.545455\n",
      "longitude               11.031551\n",
      "latitude                46.008411\n",
      "month                    6.251222\n",
      "day                     15.697458\n",
      "dtype: float64\n",
      "Training Std. Dev.:\n",
      "external-temperature    5.343885\n",
      "longitude               0.021036\n",
      "latitude                0.002235\n",
      "month                   3.396595\n",
      "day                     8.695606\n",
      "dtype: float64\n",
      "\n",
      "------Reversed Regressive Window------\n",
      "Original Data Size: 2923\n",
      "Training Data Size: 2046\n",
      "Testing Data Size: 877\n",
      "\n",
      "Training Mean:\n",
      "external-temperature    15.382209\n",
      "longitude               11.036021\n",
      "latitude                46.008706\n",
      "month                    6.727273\n",
      "day                     15.601173\n",
      "dtype: float64\n",
      "Training Std. Dev.:\n",
      "external-temperature    6.524474\n",
      "longitude               0.018820\n",
      "latitude                0.002072\n",
      "month                   3.458438\n",
      "day                     8.717365\n",
      "dtype: float64\n",
      "\n"
     ]
    }
   ],
   "source": [
    "# Develop window for data separation\n",
    "species = 'Deer'\n",
    "file_name = 'GSM02927'\n",
    "\n",
    "years_to_predict = 1\n",
    "time_intervals = 3 if species == 'Moose' else 4\n",
    "\n",
    "regressive_window = aux.RegressiveWindow(species, file_name)\n",
    "reversed_regressive_window = aux.ReversedRegressiveWindow(species, file_name)\n",
    "\n",
    "results = {}\n",
    "\n",
    "print('------Original Regressive Window------')\n",
    "print(f'Original Data Size: {len(regressive_window.orig_df)}')\n",
    "print(f'Training Data Size: {len(regressive_window.train_df)}')\n",
    "print(f'Testing Data Size: {len(regressive_window.test_df)}\\n')\n",
    "\n",
    "print(f'Training Mean:\\n{regressive_window.train_df.mean()}')\n",
    "print(f'Training Std. Dev.:\\n{regressive_window.train_df.std()}\\n')\n",
    "\n",
    "print('------Reversed Regressive Window------')\n",
    "print(f'Original Data Size: {len(reversed_regressive_window.orig_df)}')\n",
    "print(f'Training Data Size: {len(reversed_regressive_window.train_df)}')\n",
    "print(f'Testing Data Size: {len(reversed_regressive_window.test_df)}\\n')\n",
    "\n",
    "print(f'Training Mean:\\n{reversed_regressive_window.train_df.mean()}')\n",
    "print(f'Training Std. Dev.:\\n{reversed_regressive_window.train_df.std()}\\n')"
   ]
  },
  {
   "cell_type": "markdown",
   "metadata": {},
   "source": [
    "### Regressive Model"
   ]
  },
  {
   "cell_type": "code",
   "execution_count": 3,
   "metadata": {},
   "outputs": [
    {
     "name": "stderr",
     "output_type": "stream",
     "text": [
      "c:\\Users\\Imper\\AppData\\Local\\Programs\\Python\\Python312\\Lib\\site-packages\\keras\\src\\layers\\core\\dense.py:87: UserWarning: Do not pass an `input_shape`/`input_dim` argument to a layer. When using Sequential models, prefer using an `Input(shape)` object as the first layer in the model instead.\n",
      "  super().__init__(activity_regularizer=activity_regularizer, **kwargs)\n"
     ]
    },
    {
     "name": "stdout",
     "output_type": "stream",
     "text": [
      "Epoch 1/20\n",
      "\u001b[1m64/64\u001b[0m \u001b[32m━━━━━━━━━━━━━━━━━━━━\u001b[0m\u001b[37m\u001b[0m \u001b[1m2s\u001b[0m 4ms/step - loss: 0.7710 - mean_absolute_error: 0.7229 - mean_squared_error: 0.7710\n",
      "Epoch 2/20\n",
      "\u001b[1m40/64\u001b[0m \u001b[32m━━━━━━━━━━━━\u001b[0m\u001b[37m━━━━━━━━\u001b[0m \u001b[1m0s\u001b[0m 4ms/step - loss: 0.5554 - mean_absolute_error: 0.5636 - mean_squared_error: 0.5554"
     ]
    },
    {
     "name": "stderr",
     "output_type": "stream",
     "text": [
      "c:\\Users\\Imper\\AppData\\Local\\Programs\\Python\\Python312\\Lib\\site-packages\\keras\\src\\callbacks\\early_stopping.py:155: UserWarning: Early stopping conditioned on metric `val_loss` which is not available. Available metrics are: loss,mean_absolute_error,mean_squared_error\n",
      "  current = self.get_monitor_value(logs)\n"
     ]
    },
    {
     "name": "stdout",
     "output_type": "stream",
     "text": [
      "\u001b[1m64/64\u001b[0m \u001b[32m━━━━━━━━━━━━━━━━━━━━\u001b[0m\u001b[37m\u001b[0m \u001b[1m0s\u001b[0m 4ms/step - loss: 0.5541 - mean_absolute_error: 0.5598 - mean_squared_error: 0.5541\n",
      "Epoch 3/20\n",
      "\u001b[1m64/64\u001b[0m \u001b[32m━━━━━━━━━━━━━━━━━━━━\u001b[0m\u001b[37m\u001b[0m \u001b[1m0s\u001b[0m 3ms/step - loss: 0.4872 - mean_absolute_error: 0.5114 - mean_squared_error: 0.4872\n",
      "Epoch 4/20\n",
      "\u001b[1m64/64\u001b[0m \u001b[32m━━━━━━━━━━━━━━━━━━━━\u001b[0m\u001b[37m\u001b[0m \u001b[1m0s\u001b[0m 3ms/step - loss: 0.4526 - mean_absolute_error: 0.4880 - mean_squared_error: 0.4526\n",
      "Epoch 5/20\n",
      "\u001b[1m64/64\u001b[0m \u001b[32m━━━━━━━━━━━━━━━━━━━━\u001b[0m\u001b[37m\u001b[0m \u001b[1m0s\u001b[0m 3ms/step - loss: 0.4478 - mean_absolute_error: 0.4840 - mean_squared_error: 0.4478\n",
      "Epoch 6/20\n",
      "\u001b[1m64/64\u001b[0m \u001b[32m━━━━━━━━━━━━━━━━━━━━\u001b[0m\u001b[37m\u001b[0m \u001b[1m0s\u001b[0m 3ms/step - loss: 0.4547 - mean_absolute_error: 0.4803 - mean_squared_error: 0.4547\n",
      "Epoch 7/20\n",
      "\u001b[1m64/64\u001b[0m \u001b[32m━━━━━━━━━━━━━━━━━━━━\u001b[0m\u001b[37m\u001b[0m \u001b[1m0s\u001b[0m 3ms/step - loss: 0.4361 - mean_absolute_error: 0.4683 - mean_squared_error: 0.4361\n",
      "Epoch 8/20\n",
      "\u001b[1m64/64\u001b[0m \u001b[32m━━━━━━━━━━━━━━━━━━━━\u001b[0m\u001b[37m\u001b[0m \u001b[1m0s\u001b[0m 3ms/step - loss: 0.4160 - mean_absolute_error: 0.4524 - mean_squared_error: 0.4160\n",
      "Epoch 9/20\n",
      "\u001b[1m64/64\u001b[0m \u001b[32m━━━━━━━━━━━━━━━━━━━━\u001b[0m\u001b[37m\u001b[0m \u001b[1m0s\u001b[0m 4ms/step - loss: 0.3975 - mean_absolute_error: 0.4362 - mean_squared_error: 0.3975\n",
      "Epoch 10/20\n",
      "\u001b[1m64/64\u001b[0m \u001b[32m━━━━━━━━━━━━━━━━━━━━\u001b[0m\u001b[37m\u001b[0m \u001b[1m0s\u001b[0m 4ms/step - loss: 0.3780 - mean_absolute_error: 0.4238 - mean_squared_error: 0.3780\n",
      "Epoch 11/20\n",
      "\u001b[1m64/64\u001b[0m \u001b[32m━━━━━━━━━━━━━━━━━━━━\u001b[0m\u001b[37m\u001b[0m \u001b[1m0s\u001b[0m 4ms/step - loss: 0.3695 - mean_absolute_error: 0.4122 - mean_squared_error: 0.3695\n",
      "Epoch 12/20\n",
      "\u001b[1m64/64\u001b[0m \u001b[32m━━━━━━━━━━━━━━━━━━━━\u001b[0m\u001b[37m\u001b[0m \u001b[1m0s\u001b[0m 4ms/step - loss: 0.3468 - mean_absolute_error: 0.3958 - mean_squared_error: 0.3468\n",
      "Epoch 13/20\n",
      "\u001b[1m64/64\u001b[0m \u001b[32m━━━━━━━━━━━━━━━━━━━━\u001b[0m\u001b[37m\u001b[0m \u001b[1m0s\u001b[0m 4ms/step - loss: 0.3769 - mean_absolute_error: 0.4198 - mean_squared_error: 0.3769\n",
      "Epoch 14/20\n",
      "\u001b[1m64/64\u001b[0m \u001b[32m━━━━━━━━━━━━━━━━━━━━\u001b[0m\u001b[37m\u001b[0m \u001b[1m0s\u001b[0m 4ms/step - loss: 0.3579 - mean_absolute_error: 0.3995 - mean_squared_error: 0.3579\n",
      "Epoch 15/20\n",
      "\u001b[1m64/64\u001b[0m \u001b[32m━━━━━━━━━━━━━━━━━━━━\u001b[0m\u001b[37m\u001b[0m \u001b[1m0s\u001b[0m 4ms/step - loss: 0.3522 - mean_absolute_error: 0.4009 - mean_squared_error: 0.3522\n",
      "Epoch 16/20\n",
      "\u001b[1m64/64\u001b[0m \u001b[32m━━━━━━━━━━━━━━━━━━━━\u001b[0m\u001b[37m\u001b[0m \u001b[1m0s\u001b[0m 4ms/step - loss: 0.3314 - mean_absolute_error: 0.3817 - mean_squared_error: 0.3314\n",
      "Epoch 17/20\n",
      "\u001b[1m64/64\u001b[0m \u001b[32m━━━━━━━━━━━━━━━━━━━━\u001b[0m\u001b[37m\u001b[0m \u001b[1m0s\u001b[0m 4ms/step - loss: 0.3183 - mean_absolute_error: 0.3705 - mean_squared_error: 0.3183\n",
      "Epoch 18/20\n",
      "\u001b[1m64/64\u001b[0m \u001b[32m━━━━━━━━━━━━━━━━━━━━\u001b[0m\u001b[37m\u001b[0m \u001b[1m0s\u001b[0m 3ms/step - loss: 0.3682 - mean_absolute_error: 0.4034 - mean_squared_error: 0.3682\n",
      "Epoch 19/20\n",
      "\u001b[1m64/64\u001b[0m \u001b[32m━━━━━━━━━━━━━━━━━━━━\u001b[0m\u001b[37m\u001b[0m \u001b[1m0s\u001b[0m 4ms/step - loss: 0.3315 - mean_absolute_error: 0.3852 - mean_squared_error: 0.3315\n",
      "Epoch 20/20\n",
      "\u001b[1m64/64\u001b[0m \u001b[32m━━━━━━━━━━━━━━━━━━━━\u001b[0m\u001b[37m\u001b[0m \u001b[1m0s\u001b[0m 4ms/step - loss: 0.3306 - mean_absolute_error: 0.3779 - mean_squared_error: 0.3306\n"
     ]
    },
    {
     "data": {
      "text/plain": [
       "<keras.src.callbacks.history.History at 0x1eab581c8f0>"
      ]
     },
     "execution_count": 3,
     "metadata": {},
     "output_type": "execute_result"
    }
   ],
   "source": [
    "regressive_model = tf.keras.models.Sequential([\n",
    "    tf.keras.layers.Dense(256, input_shape=(1,3), activation='relu'),\n",
    "    tf.keras.layers.Dense(128, activation='relu'),\n",
    "    tf.keras.layers.Dense(128, activation='relu'),\n",
    "    tf.keras.layers.Dense(2)\n",
    "])\n",
    "\n",
    "regressive_window.model_compilation_and_fitting(regressive_model)"
   ]
  },
  {
   "cell_type": "code",
   "execution_count": 4,
   "metadata": {},
   "outputs": [
    {
     "name": "stdout",
     "output_type": "stream",
     "text": [
      "\u001b[1m28/28\u001b[0m \u001b[32m━━━━━━━━━━━━━━━━━━━━\u001b[0m\u001b[37m\u001b[0m \u001b[1m0s\u001b[0m 1ms/step - loss: 1.0711 - mean_absolute_error: 0.7665 - mean_squared_error: 1.0711  \n"
     ]
    }
   ],
   "source": [
    "results['Original Regressive Model'] = regressive_model.evaluate(regressive_window.test_input, regressive_window.test_label, verbose=1, return_dict=True)"
   ]
  },
  {
   "cell_type": "code",
   "execution_count": 5,
   "metadata": {},
   "outputs": [],
   "source": [
    "# Input ordering\n",
    "original_output = regressive_window.test_label\n",
    "original_output = original_output.reshape((original_output.shape[0], original_output.shape[-1]))\n",
    "predicted_output = regressive_model(regressive_window.test_input).numpy()\n",
    "predicted_output = predicted_output.reshape((predicted_output.shape[0], predicted_output.shape[-1]))\n",
    "\n",
    "# Statistics gathering\n",
    "mae_values = list(mean_absolute_error(original_output, predicted_output, multioutput='raw_values'))\n",
    "mae_values = {coord_name: coord_value for coord_name, coord_value in zip(['mae_longitude', 'mae_latitude'], mae_values)}\n",
    "\n",
    "mse_values = list(mean_squared_error(original_output, predicted_output, multioutput='raw_values'))\n",
    "mse_values = {coord_name: coord_value for coord_name, coord_value in zip(['mse_longitude', 'mse_latitude'], mse_values)}\n",
    "\n",
    "# Apply statistics to results\n",
    "results['Original Regressive Model'].update(mae_values)\n",
    "results['Original Regressive Model'].update(mse_values)"
   ]
  },
  {
   "cell_type": "code",
   "execution_count": 6,
   "metadata": {},
   "outputs": [
    {
     "data": {
      "text/plain": [
       "{'Original Regressive Model': {'loss': 0.8874377608299255,\n",
       "  'mean_absolute_error': 0.7207131385803223,\n",
       "  'mean_squared_error': 0.8874377608299255,\n",
       "  'mae_longitude': 0.7361759611671084,\n",
       "  'mae_latitude': 0.7052501407429674,\n",
       "  'mse_longitude': 0.9618408933261644,\n",
       "  'mse_latitude': 0.8130347825762871}}"
      ]
     },
     "execution_count": 6,
     "metadata": {},
     "output_type": "execute_result"
    }
   ],
   "source": [
    "results"
   ]
  },
  {
   "cell_type": "code",
   "execution_count": 7,
   "metadata": {},
   "outputs": [],
   "source": [
    "# Histogram for Distance Errors\n",
    "distances = []\n",
    "unnormed_original_output = original_output*regressive_window.train_df[['longitude', 'latitude']].std().values + regressive_window.train_df[['longitude', 'latitude']].mean().values\n",
    "unnormed_predicted_output = predicted_output*regressive_window.train_df[['longitude', 'latitude']].std().values + regressive_window.train_df[['longitude', 'latitude']].mean().values\n",
    "\n",
    "r = 3958.756 + 636/5280 # Average radius of Earth to sea level plus elevation of Trentino\n",
    "for original_coord, predicted_coord in zip(unnormed_original_output, unnormed_predicted_output):\n",
    "    curr_d = 2*r*math.asin(\n",
    "        math.sqrt(\n",
    "            ((1-math.cos(math.radians(predicted_coord[1] - original_coord[1]))) \n",
    "             + math.cos(math.radians(predicted_coord[1]))*math.cos(math.radians(original_coord[1]))*(1-math.cos(math.radians(predicted_coord[0] - original_coord[0]))))/2))\n",
    "    distances.append(curr_d)"
   ]
  },
  {
   "cell_type": "code",
   "execution_count": 8,
   "metadata": {},
   "outputs": [],
   "source": [
    "hist, bins = np.histogram(distances, bins=12, range=(0, 3), density=True)"
   ]
  },
  {
   "cell_type": "code",
   "execution_count": 9,
   "metadata": {},
   "outputs": [
    {
     "data": {
      "image/png": "[encoded data removed]",
      "text/plain": [
       "<Figure size 640x480 with 1 Axes>"
      ]
     },
     "metadata": {},
     "output_type": "display_data"
    }
   ],
   "source": [
    "# Histogram of distances\n",
    "con = plt.bar(bins[0:len(bins) - 1] + 0.125, hist*0.25, edgecolor='black', width=0.25)\n",
    "plt.title(f\"Distance Between Actual and Predicted Positions (n = {len(distances)})\")\n",
    "plt.xlabel(\"Distance (mi)\")\n",
    "plt.ylabel(\"Percentage of predictions in each group\")\n",
    "plt.show()"
   ]
  },
  {
   "cell_type": "code",
   "execution_count": 10,
   "metadata": {},
   "outputs": [
    {
     "data": {
      "text/html": [
       "<div>\n",
       "<style scoped>\n",
       "    .dataframe tbody tr th:only-of-type {\n",
       "        vertical-align: middle;\n",
       "    }\n",
       "\n",
       "    .dataframe tbody tr th {\n",
       "        vertical-align: top;\n",
       "    }\n",
       "\n",
       "    .dataframe thead th {\n",
       "        text-align: right;\n",
       "    }\n",
       "</style>\n",
       "<table border=\"1\" class=\"dataframe\">\n",
       "  <thead>\n",
       "    <tr style=\"text-align: right;\">\n",
       "      <th></th>\n",
       "      <th>Distances</th>\n",
       "    </tr>\n",
       "  </thead>\n",
       "  <tbody>\n",
       "    <tr>\n",
       "      <th>count</th>\n",
       "      <td>877.000000</td>\n",
       "    </tr>\n",
       "    <tr>\n",
       "      <th>mean</th>\n",
       "      <td>0.765528</td>\n",
       "    </tr>\n",
       "    <tr>\n",
       "      <th>std</th>\n",
       "      <td>0.643484</td>\n",
       "    </tr>\n",
       "    <tr>\n",
       "      <th>min</th>\n",
       "      <td>0.003331</td>\n",
       "    </tr>\n",
       "    <tr>\n",
       "      <th>25%</th>\n",
       "      <td>0.213699</td>\n",
       "    </tr>\n",
       "    <tr>\n",
       "      <th>50%</th>\n",
       "      <td>0.545646</td>\n",
       "    </tr>\n",
       "    <tr>\n",
       "      <th>75%</th>\n",
       "      <td>1.225037</td>\n",
       "    </tr>\n",
       "    <tr>\n",
       "      <th>max</th>\n",
       "      <td>2.496089</td>\n",
       "    </tr>\n",
       "  </tbody>\n",
       "</table>\n",
       "</div>"
      ],
      "text/plain": [
       "        Distances\n",
       "count  877.000000\n",
       "mean     0.765528\n",
       "std      0.643484\n",
       "min      0.003331\n",
       "25%      0.213699\n",
       "50%      0.545646\n",
       "75%      1.225037\n",
       "max      2.496089"
      ]
     },
     "execution_count": 10,
     "metadata": {},
     "output_type": "execute_result"
    }
   ],
   "source": [
    "pd.DataFrame(distances, columns=['Distances']).describe()"
   ]
  },
  {
   "cell_type": "code",
   "execution_count": 11,
   "metadata": {},
   "outputs": [],
   "source": [
    "regressive_window.csv_extension(f'{species}/{file_name}_regressive', species, regressive_model)"
   ]
  },
  {
   "cell_type": "code",
   "execution_count": 12,
   "metadata": {},
   "outputs": [],
   "source": [
    "regressive_model.save(f'ModelFiles/SavedModels/{species}/{file_name}_regressive.keras')"
   ]
  },
  {
   "cell_type": "code",
   "execution_count": 13,
   "metadata": {},
   "outputs": [
    {
     "name": "stderr",
     "output_type": "stream",
     "text": [
      "C:\\Users\\Imper\\AppData\\Local\\Temp\\ipykernel_25904\\3778714951.py:4: SettingWithCopyWarning: \n",
      "A value is trying to be set on a copy of a slice from a DataFrame.\n",
      "Try using .loc[row_indexer,col_indexer] = value instead\n",
      "\n",
      "See the caveats in the documentation: https://pandas.pydata.org/pandas-docs/stable/user_guide/indexing.html#returning-a-view-versus-a-copy\n",
      "  test_df['timestamp'] = window.timeline[int(len(window.orig_df)*0.7):]\n",
      "C:\\Users\\Imper\\AppData\\Local\\Temp\\ipykernel_25904\\3778714951.py:7: SettingWithCopyWarning: \n",
      "A value is trying to be set on a copy of a slice from a DataFrame.\n",
      "Try using .loc[row_indexer,col_indexer] = value instead\n",
      "\n",
      "See the caveats in the documentation: https://pandas.pydata.org/pandas-docs/stable/user_guide/indexing.html#returning-a-view-versus-a-copy\n",
      "  initial_df['id'] = ['original' for _ in range(len(initial_df))]\n"
     ]
    },
    {
     "data": {
      "text/html": [
       "<div>\n",
       "<style scoped>\n",
       "    .dataframe tbody tr th:only-of-type {\n",
       "        vertical-align: middle;\n",
       "    }\n",
       "\n",
       "    .dataframe tbody tr th {\n",
       "        vertical-align: top;\n",
       "    }\n",
       "\n",
       "    .dataframe thead th {\n",
       "        text-align: right;\n",
       "    }\n",
       "</style>\n",
       "<table border=\"1\" class=\"dataframe\">\n",
       "  <thead>\n",
       "    <tr style=\"text-align: right;\">\n",
       "      <th></th>\n",
       "      <th>timestamp</th>\n",
       "      <th>month</th>\n",
       "      <th>day</th>\n",
       "      <th>external-temperature</th>\n",
       "      <th>longitude</th>\n",
       "      <th>latitude</th>\n",
       "      <th>id</th>\n",
       "    </tr>\n",
       "  </thead>\n",
       "  <tbody>\n",
       "    <tr>\n",
       "      <th>0</th>\n",
       "      <td>2007-10-19 16:02:55</td>\n",
       "      <td>10</td>\n",
       "      <td>19</td>\n",
       "      <td>-0.6</td>\n",
       "      <td>11.047242</td>\n",
       "      <td>46.010533</td>\n",
       "      <td>original</td>\n",
       "    </tr>\n",
       "    <tr>\n",
       "      <th>1</th>\n",
       "      <td>2007-10-19 20:01:47</td>\n",
       "      <td>10</td>\n",
       "      <td>19</td>\n",
       "      <td>-3.6</td>\n",
       "      <td>11.048442</td>\n",
       "      <td>46.008974</td>\n",
       "      <td>original</td>\n",
       "    </tr>\n",
       "    <tr>\n",
       "      <th>2</th>\n",
       "      <td>2007-10-20 00:01:11</td>\n",
       "      <td>10</td>\n",
       "      <td>20</td>\n",
       "      <td>11.4</td>\n",
       "      <td>11.047115</td>\n",
       "      <td>46.009779</td>\n",
       "      <td>original</td>\n",
       "    </tr>\n",
       "    <tr>\n",
       "      <th>3</th>\n",
       "      <td>2007-10-20 04:00:55</td>\n",
       "      <td>10</td>\n",
       "      <td>20</td>\n",
       "      <td>-7.3</td>\n",
       "      <td>11.048017</td>\n",
       "      <td>46.008876</td>\n",
       "      <td>original</td>\n",
       "    </tr>\n",
       "    <tr>\n",
       "      <th>4</th>\n",
       "      <td>2007-10-20 08:00:55</td>\n",
       "      <td>10</td>\n",
       "      <td>20</td>\n",
       "      <td>-8.0</td>\n",
       "      <td>11.046749</td>\n",
       "      <td>46.009134</td>\n",
       "      <td>original</td>\n",
       "    </tr>\n",
       "    <tr>\n",
       "      <th>...</th>\n",
       "      <td>...</td>\n",
       "      <td>...</td>\n",
       "      <td>...</td>\n",
       "      <td>...</td>\n",
       "      <td>...</td>\n",
       "      <td>...</td>\n",
       "      <td>...</td>\n",
       "    </tr>\n",
       "    <tr>\n",
       "      <th>1749</th>\n",
       "      <td>2008-03-14 16:00:54</td>\n",
       "      <td>3</td>\n",
       "      <td>14</td>\n",
       "      <td>4.4</td>\n",
       "      <td>11.041203</td>\n",
       "      <td>46.011711</td>\n",
       "      <td>predicted</td>\n",
       "    </tr>\n",
       "    <tr>\n",
       "      <th>1750</th>\n",
       "      <td>2008-03-14 20:01:53</td>\n",
       "      <td>3</td>\n",
       "      <td>14</td>\n",
       "      <td>4.7</td>\n",
       "      <td>11.041498</td>\n",
       "      <td>46.011743</td>\n",
       "      <td>predicted</td>\n",
       "    </tr>\n",
       "    <tr>\n",
       "      <th>1751</th>\n",
       "      <td>2008-03-15 00:03:05</td>\n",
       "      <td>3</td>\n",
       "      <td>15</td>\n",
       "      <td>3.8</td>\n",
       "      <td>11.038999</td>\n",
       "      <td>46.011614</td>\n",
       "      <td>predicted</td>\n",
       "    </tr>\n",
       "    <tr>\n",
       "      <th>1752</th>\n",
       "      <td>2008-03-15 04:02:21</td>\n",
       "      <td>3</td>\n",
       "      <td>15</td>\n",
       "      <td>1.0</td>\n",
       "      <td>11.035604</td>\n",
       "      <td>46.011227</td>\n",
       "      <td>predicted</td>\n",
       "    </tr>\n",
       "    <tr>\n",
       "      <th>1753</th>\n",
       "      <td>2008-03-15 08:01:37</td>\n",
       "      <td>3</td>\n",
       "      <td>15</td>\n",
       "      <td>2.2</td>\n",
       "      <td>11.037231</td>\n",
       "      <td>46.011419</td>\n",
       "      <td>predicted</td>\n",
       "    </tr>\n",
       "  </tbody>\n",
       "</table>\n",
       "<p>1754 rows × 7 columns</p>\n",
       "</div>"
      ],
      "text/plain": [
       "               timestamp  month  day  external-temperature  longitude  \\\n",
       "0    2007-10-19 16:02:55     10   19                  -0.6  11.047242   \n",
       "1    2007-10-19 20:01:47     10   19                  -3.6  11.048442   \n",
       "2    2007-10-20 00:01:11     10   20                  11.4  11.047115   \n",
       "3    2007-10-20 04:00:55     10   20                  -7.3  11.048017   \n",
       "4    2007-10-20 08:00:55     10   20                  -8.0  11.046749   \n",
       "...                  ...    ...  ...                   ...        ...   \n",
       "1749 2008-03-14 16:00:54      3   14                   4.4  11.041203   \n",
       "1750 2008-03-14 20:01:53      3   14                   4.7  11.041498   \n",
       "1751 2008-03-15 00:03:05      3   15                   3.8  11.038999   \n",
       "1752 2008-03-15 04:02:21      3   15                   1.0  11.035604   \n",
       "1753 2008-03-15 08:01:37      3   15                   2.2  11.037231   \n",
       "\n",
       "       latitude         id  \n",
       "0     46.010533   original  \n",
       "1     46.008974   original  \n",
       "2     46.009779   original  \n",
       "3     46.008876   original  \n",
       "4     46.009134   original  \n",
       "...         ...        ...  \n",
       "1749  46.011711  predicted  \n",
       "1750  46.011743  predicted  \n",
       "1751  46.011614  predicted  \n",
       "1752  46.011227  predicted  \n",
       "1753  46.011419  predicted  \n",
       "\n",
       "[1754 rows x 7 columns]"
      ]
     },
     "execution_count": 13,
     "metadata": {},
     "output_type": "execute_result"
    }
   ],
   "source": [
    "# Generate CSV file analyzing testing set results\n",
    "def graph_regressive(model, window, url_dest):\n",
    "    test_df = window.test_df\n",
    "    test_df['timestamp'] = window.timeline[int(len(window.orig_df)*0.7):]\n",
    "\n",
    "    initial_df = test_df[['timestamp', 'month', 'day', 'external-temperature', 'longitude', 'latitude']]\n",
    "    initial_df['id'] = ['original' for _ in range(len(initial_df))]\n",
    "\n",
    "    data = {\n",
    "        'timestamp': [],\n",
    "        'month': [],\n",
    "        'day': [],\n",
    "        'external-temperature': [],\n",
    "        'longitude': [],\n",
    "        'latitude': [],\n",
    "        'id': []\n",
    "    }\n",
    "\n",
    "    for i in range(len(initial_df)):\n",
    "        section = initial_df.iloc[i]\n",
    "\n",
    "        timestamp = section['timestamp']\n",
    "        month = (section['month'] - window.train_df['month'].mean())/window.train_df['month'].std()\n",
    "        day = (section['day'] - window.train_df['day'].mean())/window.train_df['day'].std()\n",
    "        external_temp = (section['external-temperature'] - window.train_df['external-temperature'].mean())/window.train_df['external-temperature'].std()\n",
    "\n",
    "        if isinstance(model, tf.keras.Sequential):\n",
    "            output_fields = model(np.array([external_temp, month, day]).reshape([1, 1, 3])).numpy()*window.train_df[['longitude', 'latitude']].std().values + window.train_df[['longitude', 'latitude']].mean().values\n",
    "            output_fields = output_fields[0][0]\n",
    "        elif isinstance(model, sklearn.neighbors.KNeighborsRegressor):\n",
    "            output_fields = model.predict([[external_temp, month, day]])[0]*window.train_df[['longitude', 'latitude']].std() + window.train_df[['longitude', 'latitude']].mean()\n",
    "            output_fields = output_fields.values\n",
    "\n",
    "        longitude = output_fields[0]\n",
    "        latitude = output_fields[1]\n",
    "        id = 'predicted'\n",
    "\n",
    "        data['timestamp'].append(timestamp)\n",
    "        data['month'].append(section['month'])\n",
    "        data['day'].append(section['day'])\n",
    "        data['external-temperature'].append(section['external-temperature'])\n",
    "        data['longitude'].append(longitude)\n",
    "        data['latitude'].append(latitude)\n",
    "        data['id'].append(id)\n",
    "\n",
    "    add_on_df = pd.DataFrame(data)\n",
    "    \n",
    "    full_df = pd.concat([initial_df, add_on_df], ignore_index=True)\n",
    "    full_df.to_csv(url_dest, index=False)\n",
    "\n",
    "    return full_df\n",
    "\n",
    "graph_regressive(regressive_model, regressive_window, f'CSVFiles/TestPerformanceCSV/{species}/{file_name}_regressive_EdgeAnalysis.csv')"
   ]
  },
  {
   "cell_type": "markdown",
   "metadata": {},
   "source": [
    "### Reveresed Regressive"
   ]
  },
  {
   "cell_type": "code",
   "execution_count": 14,
   "metadata": {},
   "outputs": [
    {
     "name": "stderr",
     "output_type": "stream",
     "text": [
      "c:\\Users\\Imper\\AppData\\Local\\Programs\\Python\\Python312\\Lib\\site-packages\\keras\\src\\layers\\core\\dense.py:87: UserWarning: Do not pass an `input_shape`/`input_dim` argument to a layer. When using Sequential models, prefer using an `Input(shape)` object as the first layer in the model instead.\n",
      "  super().__init__(activity_regularizer=activity_regularizer, **kwargs)\n"
     ]
    },
    {
     "name": "stdout",
     "output_type": "stream",
     "text": [
      "Epoch 1/20\n",
      "\u001b[1m64/64\u001b[0m \u001b[32m━━━━━━━━━━━━━━━━━━━━\u001b[0m\u001b[37m\u001b[0m \u001b[1m2s\u001b[0m 4ms/step - loss: 0.6915 - mean_absolute_error: 0.6322 - mean_squared_error: 0.6915\n",
      "Epoch 2/20\n",
      "\u001b[1m29/64\u001b[0m \u001b[32m━━━━━━━━━\u001b[0m\u001b[37m━━━━━━━━━━━\u001b[0m \u001b[1m0s\u001b[0m 4ms/step - loss: 0.5555 - mean_absolute_error: 0.5301 - mean_squared_error: 0.5555"
     ]
    },
    {
     "name": "stderr",
     "output_type": "stream",
     "text": [
      "c:\\Users\\Imper\\AppData\\Local\\Programs\\Python\\Python312\\Lib\\site-packages\\keras\\src\\callbacks\\early_stopping.py:155: UserWarning: Early stopping conditioned on metric `val_loss` which is not available. Available metrics are: loss,mean_absolute_error,mean_squared_error\n",
      "  current = self.get_monitor_value(logs)\n"
     ]
    },
    {
     "name": "stdout",
     "output_type": "stream",
     "text": [
      "\u001b[1m64/64\u001b[0m \u001b[32m━━━━━━━━━━━━━━━━━━━━\u001b[0m\u001b[37m\u001b[0m \u001b[1m0s\u001b[0m 4ms/step - loss: 0.5416 - mean_absolute_error: 0.5232 - mean_squared_error: 0.5416\n",
      "Epoch 3/20\n",
      "\u001b[1m64/64\u001b[0m \u001b[32m━━━━━━━━━━━━━━━━━━━━\u001b[0m\u001b[37m\u001b[0m \u001b[1m0s\u001b[0m 4ms/step - loss: 0.5111 - mean_absolute_error: 0.4978 - mean_squared_error: 0.5111\n",
      "Epoch 4/20\n",
      "\u001b[1m64/64\u001b[0m \u001b[32m━━━━━━━━━━━━━━━━━━━━\u001b[0m\u001b[37m\u001b[0m \u001b[1m0s\u001b[0m 3ms/step - loss: 0.4844 - mean_absolute_error: 0.4775 - mean_squared_error: 0.4844\n",
      "Epoch 5/20\n",
      "\u001b[1m64/64\u001b[0m \u001b[32m━━━━━━━━━━━━━━━━━━━━\u001b[0m\u001b[37m\u001b[0m \u001b[1m0s\u001b[0m 4ms/step - loss: 0.4485 - mean_absolute_error: 0.4706 - mean_squared_error: 0.4485\n",
      "Epoch 6/20\n",
      "\u001b[1m64/64\u001b[0m \u001b[32m━━━━━━━━━━━━━━━━━━━━\u001b[0m\u001b[37m\u001b[0m \u001b[1m0s\u001b[0m 4ms/step - loss: 0.4285 - mean_absolute_error: 0.4490 - mean_squared_error: 0.4285\n",
      "Epoch 7/20\n",
      "\u001b[1m64/64\u001b[0m \u001b[32m━━━━━━━━━━━━━━━━━━━━\u001b[0m\u001b[37m\u001b[0m \u001b[1m0s\u001b[0m 4ms/step - loss: 0.4165 - mean_absolute_error: 0.4419 - mean_squared_error: 0.4165\n",
      "Epoch 8/20\n",
      "\u001b[1m64/64\u001b[0m \u001b[32m━━━━━━━━━━━━━━━━━━━━\u001b[0m\u001b[37m\u001b[0m \u001b[1m0s\u001b[0m 4ms/step - loss: 0.3967 - mean_absolute_error: 0.4284 - mean_squared_error: 0.3967\n",
      "Epoch 9/20\n",
      "\u001b[1m64/64\u001b[0m \u001b[32m━━━━━━━━━━━━━━━━━━━━\u001b[0m\u001b[37m\u001b[0m \u001b[1m0s\u001b[0m 4ms/step - loss: 0.4212 - mean_absolute_error: 0.4403 - mean_squared_error: 0.4212\n",
      "Epoch 10/20\n",
      "\u001b[1m64/64\u001b[0m \u001b[32m━━━━━━━━━━━━━━━━━━━━\u001b[0m\u001b[37m\u001b[0m \u001b[1m0s\u001b[0m 4ms/step - loss: 0.3864 - mean_absolute_error: 0.4168 - mean_squared_error: 0.3864\n",
      "Epoch 11/20\n",
      "\u001b[1m64/64\u001b[0m \u001b[32m━━━━━━━━━━━━━━━━━━━━\u001b[0m\u001b[37m\u001b[0m \u001b[1m0s\u001b[0m 4ms/step - loss: 0.3982 - mean_absolute_error: 0.4157 - mean_squared_error: 0.3982\n",
      "Epoch 12/20\n",
      "\u001b[1m64/64\u001b[0m \u001b[32m━━━━━━━━━━━━━━━━━━━━\u001b[0m\u001b[37m\u001b[0m \u001b[1m0s\u001b[0m 4ms/step - loss: 0.3790 - mean_absolute_error: 0.4030 - mean_squared_error: 0.3790\n",
      "Epoch 13/20\n",
      "\u001b[1m64/64\u001b[0m \u001b[32m━━━━━━━━━━━━━━━━━━━━\u001b[0m\u001b[37m\u001b[0m \u001b[1m0s\u001b[0m 4ms/step - loss: 0.3687 - mean_absolute_error: 0.4029 - mean_squared_error: 0.3687\n",
      "Epoch 14/20\n",
      "\u001b[1m64/64\u001b[0m \u001b[32m━━━━━━━━━━━━━━━━━━━━\u001b[0m\u001b[37m\u001b[0m \u001b[1m0s\u001b[0m 4ms/step - loss: 0.3695 - mean_absolute_error: 0.3956 - mean_squared_error: 0.3695\n",
      "Epoch 15/20\n",
      "\u001b[1m64/64\u001b[0m \u001b[32m━━━━━━━━━━━━━━━━━━━━\u001b[0m\u001b[37m\u001b[0m \u001b[1m0s\u001b[0m 4ms/step - loss: 0.3694 - mean_absolute_error: 0.3974 - mean_squared_error: 0.3694\n",
      "Epoch 16/20\n",
      "\u001b[1m64/64\u001b[0m \u001b[32m━━━━━━━━━━━━━━━━━━━━\u001b[0m\u001b[37m\u001b[0m \u001b[1m0s\u001b[0m 4ms/step - loss: 0.3543 - mean_absolute_error: 0.3836 - mean_squared_error: 0.3543\n",
      "Epoch 17/20\n",
      "\u001b[1m64/64\u001b[0m \u001b[32m━━━━━━━━━━━━━━━━━━━━\u001b[0m\u001b[37m\u001b[0m \u001b[1m0s\u001b[0m 4ms/step - loss: 0.3502 - mean_absolute_error: 0.3844 - mean_squared_error: 0.3502\n",
      "Epoch 18/20\n",
      "\u001b[1m64/64\u001b[0m \u001b[32m━━━━━━━━━━━━━━━━━━━━\u001b[0m\u001b[37m\u001b[0m \u001b[1m0s\u001b[0m 4ms/step - loss: 0.3522 - mean_absolute_error: 0.3862 - mean_squared_error: 0.3522\n",
      "Epoch 19/20\n",
      "\u001b[1m64/64\u001b[0m \u001b[32m━━━━━━━━━━━━━━━━━━━━\u001b[0m\u001b[37m\u001b[0m \u001b[1m0s\u001b[0m 4ms/step - loss: 0.3543 - mean_absolute_error: 0.3811 - mean_squared_error: 0.3543\n",
      "Epoch 20/20\n",
      "\u001b[1m64/64\u001b[0m \u001b[32m━━━━━━━━━━━━━━━━━━━━\u001b[0m\u001b[37m\u001b[0m \u001b[1m0s\u001b[0m 4ms/step - loss: 0.3633 - mean_absolute_error: 0.3886 - mean_squared_error: 0.3633\n"
     ]
    },
    {
     "data": {
      "text/plain": [
       "<keras.src.callbacks.history.History at 0x1eabbbe0dd0>"
      ]
     },
     "execution_count": 14,
     "metadata": {},
     "output_type": "execute_result"
    }
   ],
   "source": [
    "reversed_regressive_model = tf.keras.models.Sequential([\n",
    "    tf.keras.layers.Dense(256, input_shape=(1,3), activation='relu'),\n",
    "    tf.keras.layers.Dense(128, activation='relu'),\n",
    "    tf.keras.layers.Dense(128, activation='relu'),\n",
    "    tf.keras.layers.Dense(2)\n",
    "])\n",
    "\n",
    "reversed_regressive_window.model_compilation_and_fitting(reversed_regressive_model)"
   ]
  },
  {
   "cell_type": "code",
   "execution_count": 15,
   "metadata": {},
   "outputs": [
    {
     "name": "stdout",
     "output_type": "stream",
     "text": [
      "\u001b[1m28/28\u001b[0m \u001b[32m━━━━━━━━━━━━━━━━━━━━\u001b[0m\u001b[37m\u001b[0m \u001b[1m0s\u001b[0m 1ms/step - loss: 2.3473 - mean_absolute_error: 1.2510 - mean_squared_error: 2.3473  \n"
     ]
    }
   ],
   "source": [
    "results['Reversed Regressive Model'] = reversed_regressive_model.evaluate(reversed_regressive_window.test_input, reversed_regressive_window.test_label, verbose=1, return_dict=True)"
   ]
  },
  {
   "cell_type": "code",
   "execution_count": 16,
   "metadata": {},
   "outputs": [],
   "source": [
    "# Input ordering\n",
    "reversed_original_output = reversed_regressive_window.test_label\n",
    "reversed_original_output = reversed_original_output.reshape((reversed_original_output.shape[0], reversed_original_output.shape[-1]))\n",
    "reversed_predicted_output = reversed_regressive_model(reversed_regressive_window.test_input).numpy()\n",
    "reversed_predicted_output = reversed_predicted_output.reshape((reversed_predicted_output.shape[0], reversed_predicted_output.shape[-1]))\n",
    "\n",
    "# Statistics gathering\n",
    "mae_values = list(mean_absolute_error(reversed_original_output, reversed_predicted_output, multioutput='raw_values'))\n",
    "mae_values = {coord_name: coord_value for coord_name, coord_value in zip(['mae_longitude', 'mae_latitude'], mae_values)}\n",
    "\n",
    "mse_values = list(mean_squared_error(reversed_original_output, reversed_predicted_output, multioutput='raw_values'))\n",
    "mse_values = {coord_name: coord_value for coord_name, coord_value in zip(['mse_longitude', 'mse_latitude'], mse_values)}\n",
    "\n",
    "# Apply statistics to results\n",
    "results['Reversed Regressive Model'].update(mae_values)\n",
    "results['Reversed Regressive Model'].update(mse_values)"
   ]
  },
  {
   "cell_type": "code",
   "execution_count": 17,
   "metadata": {},
   "outputs": [
    {
     "data": {
      "text/plain": [
       "{'loss': 2.1729726791381836,\n",
       " 'mean_absolute_error': 1.1391651630401611,\n",
       " 'mean_squared_error': 2.1729726791381836,\n",
       " 'mae_longitude': 0.9172500872313643,\n",
       " 'mae_latitude': 1.3610804562512886,\n",
       " 'mse_longitude': 1.6814117354995344,\n",
       " 'mse_latitude': 2.664533107548024}"
      ]
     },
     "execution_count": 17,
     "metadata": {},
     "output_type": "execute_result"
    }
   ],
   "source": [
    "results['Reversed Regressive Model']"
   ]
  },
  {
   "cell_type": "code",
   "execution_count": 18,
   "metadata": {},
   "outputs": [],
   "source": [
    "# Histogram for Distance Errors\n",
    "reversed_distances = []\n",
    "unnormed_reversed_original_output = reversed_original_output*reversed_regressive_window.train_df[['longitude', 'latitude']].std().values + reversed_regressive_window.train_df[['longitude', 'latitude']].mean().values\n",
    "unnormed_reversed_predicted_output = reversed_predicted_output*reversed_regressive_window.train_df[['longitude', 'latitude']].std().values + reversed_regressive_window.train_df[['longitude', 'latitude']].mean().values\n",
    "\n",
    "r = 3958.756 + 636/5280 # Average radius of Earth to sea level plus elevation of Trentino\n",
    "for original_coord, predicted_coord in zip(unnormed_reversed_original_output, unnormed_reversed_predicted_output):\n",
    "    curr_d = 2*r*math.asin(\n",
    "        math.sqrt(\n",
    "            ((1-math.cos(math.radians(predicted_coord[1] - original_coord[1]))) \n",
    "             + math.cos(math.radians(predicted_coord[1]))*math.cos(math.radians(original_coord[1]))*(1-math.cos(math.radians(predicted_coord[0] - original_coord[0]))))/2))\n",
    "    reversed_distances.append(curr_d)"
   ]
  },
  {
   "cell_type": "code",
   "execution_count": 19,
   "metadata": {},
   "outputs": [],
   "source": [
    "hist, bins = np.histogram(reversed_distances, bins=12, range=(0,3), density=True)"
   ]
  },
  {
   "cell_type": "code",
   "execution_count": 20,
   "metadata": {},
   "outputs": [
    {
     "data": {
      "image/png": "[encoded data removed]",
      "text/plain": [
       "<Figure size 640x480 with 1 Axes>"
      ]
     },
     "metadata": {},
     "output_type": "display_data"
    }
   ],
   "source": [
    "# Histogram of distances\n",
    "con = plt.bar(bins[0:len(bins) - 1] + 0.125, hist*0.25, edgecolor='black', width=0.25)\n",
    "plt.title(f\"Distance Between Actual and Predicted Positions (n = {len(reversed_distances)})\")\n",
    "plt.xlabel(\"Distance (mi)\")\n",
    "plt.ylabel(\"Percentage of predictions in each group\")\n",
    "plt.show()"
   ]
  },
  {
   "cell_type": "code",
   "execution_count": 21,
   "metadata": {},
   "outputs": [
    {
     "data": {
      "text/html": [
       "<div>\n",
       "<style scoped>\n",
       "    .dataframe tbody tr th:only-of-type {\n",
       "        vertical-align: middle;\n",
       "    }\n",
       "\n",
       "    .dataframe tbody tr th {\n",
       "        vertical-align: top;\n",
       "    }\n",
       "\n",
       "    .dataframe thead th {\n",
       "        text-align: right;\n",
       "    }\n",
       "</style>\n",
       "<table border=\"1\" class=\"dataframe\">\n",
       "  <thead>\n",
       "    <tr style=\"text-align: right;\">\n",
       "      <th></th>\n",
       "      <th>Distances</th>\n",
       "    </tr>\n",
       "  </thead>\n",
       "  <tbody>\n",
       "    <tr>\n",
       "      <th>count</th>\n",
       "      <td>877.000000</td>\n",
       "    </tr>\n",
       "    <tr>\n",
       "      <th>mean</th>\n",
       "      <td>0.894687</td>\n",
       "    </tr>\n",
       "    <tr>\n",
       "      <th>std</th>\n",
       "      <td>0.791402</td>\n",
       "    </tr>\n",
       "    <tr>\n",
       "      <th>min</th>\n",
       "      <td>0.021877</td>\n",
       "    </tr>\n",
       "    <tr>\n",
       "      <th>25%</th>\n",
       "      <td>0.230925</td>\n",
       "    </tr>\n",
       "    <tr>\n",
       "      <th>50%</th>\n",
       "      <td>0.542375</td>\n",
       "    </tr>\n",
       "    <tr>\n",
       "      <th>75%</th>\n",
       "      <td>1.517084</td>\n",
       "    </tr>\n",
       "    <tr>\n",
       "      <th>max</th>\n",
       "      <td>2.667279</td>\n",
       "    </tr>\n",
       "  </tbody>\n",
       "</table>\n",
       "</div>"
      ],
      "text/plain": [
       "        Distances\n",
       "count  877.000000\n",
       "mean     0.894687\n",
       "std      0.791402\n",
       "min      0.021877\n",
       "25%      0.230925\n",
       "50%      0.542375\n",
       "75%      1.517084\n",
       "max      2.667279"
      ]
     },
     "execution_count": 21,
     "metadata": {},
     "output_type": "execute_result"
    }
   ],
   "source": [
    "pd.DataFrame(reversed_distances, columns=['Distances']).describe()"
   ]
  },
  {
   "cell_type": "code",
   "execution_count": 22,
   "metadata": {},
   "outputs": [],
   "source": [
    "reversed_regressive_window.csv_extension(f'{species}/{file_name}_reversed_regressive', species, reversed_regressive_model)"
   ]
  },
  {
   "cell_type": "code",
   "execution_count": 23,
   "metadata": {},
   "outputs": [],
   "source": [
    "reversed_regressive_model.save(f'ModelFiles/SavedModels/{species}/{file_name}_reversed_regressive.keras')"
   ]
  },
  {
   "cell_type": "code",
   "execution_count": 24,
   "metadata": {},
   "outputs": [
    {
     "name": "stderr",
     "output_type": "stream",
     "text": [
      "C:\\Users\\Imper\\AppData\\Local\\Temp\\ipykernel_25904\\3778714951.py:4: SettingWithCopyWarning: \n",
      "A value is trying to be set on a copy of a slice from a DataFrame.\n",
      "Try using .loc[row_indexer,col_indexer] = value instead\n",
      "\n",
      "See the caveats in the documentation: https://pandas.pydata.org/pandas-docs/stable/user_guide/indexing.html#returning-a-view-versus-a-copy\n",
      "  test_df['timestamp'] = window.timeline[int(len(window.orig_df)*0.7):]\n",
      "C:\\Users\\Imper\\AppData\\Local\\Temp\\ipykernel_25904\\3778714951.py:7: SettingWithCopyWarning: \n",
      "A value is trying to be set on a copy of a slice from a DataFrame.\n",
      "Try using .loc[row_indexer,col_indexer] = value instead\n",
      "\n",
      "See the caveats in the documentation: https://pandas.pydata.org/pandas-docs/stable/user_guide/indexing.html#returning-a-view-versus-a-copy\n",
      "  initial_df['id'] = ['original' for _ in range(len(initial_df))]\n"
     ]
    },
    {
     "data": {
      "text/html": [
       "<div>\n",
       "<style scoped>\n",
       "    .dataframe tbody tr th:only-of-type {\n",
       "        vertical-align: middle;\n",
       "    }\n",
       "\n",
       "    .dataframe tbody tr th {\n",
       "        vertical-align: top;\n",
       "    }\n",
       "\n",
       "    .dataframe thead th {\n",
       "        text-align: right;\n",
       "    }\n",
       "</style>\n",
       "<table border=\"1\" class=\"dataframe\">\n",
       "  <thead>\n",
       "    <tr style=\"text-align: right;\">\n",
       "      <th></th>\n",
       "      <th>timestamp</th>\n",
       "      <th>month</th>\n",
       "      <th>day</th>\n",
       "      <th>external-temperature</th>\n",
       "      <th>longitude</th>\n",
       "      <th>latitude</th>\n",
       "      <th>id</th>\n",
       "    </tr>\n",
       "  </thead>\n",
       "  <tbody>\n",
       "    <tr>\n",
       "      <th>0</th>\n",
       "      <td>2007-04-07 16:00:50</td>\n",
       "      <td>4</td>\n",
       "      <td>7</td>\n",
       "      <td>5.7</td>\n",
       "      <td>11.048319</td>\n",
       "      <td>46.010373</td>\n",
       "      <td>original</td>\n",
       "    </tr>\n",
       "    <tr>\n",
       "      <th>1</th>\n",
       "      <td>2007-04-07 12:01:42</td>\n",
       "      <td>4</td>\n",
       "      <td>7</td>\n",
       "      <td>5.0</td>\n",
       "      <td>11.048023</td>\n",
       "      <td>46.012476</td>\n",
       "      <td>original</td>\n",
       "    </tr>\n",
       "    <tr>\n",
       "      <th>2</th>\n",
       "      <td>2007-04-07 08:03:09</td>\n",
       "      <td>4</td>\n",
       "      <td>7</td>\n",
       "      <td>2.6</td>\n",
       "      <td>11.047479</td>\n",
       "      <td>46.011052</td>\n",
       "      <td>original</td>\n",
       "    </tr>\n",
       "    <tr>\n",
       "      <th>3</th>\n",
       "      <td>2007-04-07 04:00:53</td>\n",
       "      <td>4</td>\n",
       "      <td>7</td>\n",
       "      <td>2.6</td>\n",
       "      <td>11.046926</td>\n",
       "      <td>46.009605</td>\n",
       "      <td>original</td>\n",
       "    </tr>\n",
       "    <tr>\n",
       "      <th>4</th>\n",
       "      <td>2007-04-07 00:00:54</td>\n",
       "      <td>4</td>\n",
       "      <td>7</td>\n",
       "      <td>3.4</td>\n",
       "      <td>11.046919</td>\n",
       "      <td>46.010993</td>\n",
       "      <td>original</td>\n",
       "    </tr>\n",
       "    <tr>\n",
       "      <th>...</th>\n",
       "      <td>...</td>\n",
       "      <td>...</td>\n",
       "      <td>...</td>\n",
       "      <td>...</td>\n",
       "      <td>...</td>\n",
       "      <td>...</td>\n",
       "      <td>...</td>\n",
       "    </tr>\n",
       "    <tr>\n",
       "      <th>1749</th>\n",
       "      <td>2006-11-13 04:01:23</td>\n",
       "      <td>11</td>\n",
       "      <td>13</td>\n",
       "      <td>-4.2</td>\n",
       "      <td>11.045828</td>\n",
       "      <td>46.011291</td>\n",
       "      <td>predicted</td>\n",
       "    </tr>\n",
       "    <tr>\n",
       "      <th>1750</th>\n",
       "      <td>2006-11-13 00:02:24</td>\n",
       "      <td>11</td>\n",
       "      <td>13</td>\n",
       "      <td>-3.5</td>\n",
       "      <td>11.045823</td>\n",
       "      <td>46.011218</td>\n",
       "      <td>predicted</td>\n",
       "    </tr>\n",
       "    <tr>\n",
       "      <th>1751</th>\n",
       "      <td>2006-11-12 20:03:04</td>\n",
       "      <td>11</td>\n",
       "      <td>12</td>\n",
       "      <td>0.0</td>\n",
       "      <td>11.045792</td>\n",
       "      <td>46.010992</td>\n",
       "      <td>predicted</td>\n",
       "    </tr>\n",
       "    <tr>\n",
       "      <th>1752</th>\n",
       "      <td>2006-11-12 16:03:04</td>\n",
       "      <td>11</td>\n",
       "      <td>12</td>\n",
       "      <td>2.6</td>\n",
       "      <td>11.045391</td>\n",
       "      <td>46.010829</td>\n",
       "      <td>predicted</td>\n",
       "    </tr>\n",
       "    <tr>\n",
       "      <th>1753</th>\n",
       "      <td>2006-11-12 12:03:04</td>\n",
       "      <td>11</td>\n",
       "      <td>12</td>\n",
       "      <td>4.2</td>\n",
       "      <td>11.045312</td>\n",
       "      <td>46.010756</td>\n",
       "      <td>predicted</td>\n",
       "    </tr>\n",
       "  </tbody>\n",
       "</table>\n",
       "<p>1754 rows × 7 columns</p>\n",
       "</div>"
      ],
      "text/plain": [
       "               timestamp  month  day  external-temperature  longitude  \\\n",
       "0    2007-04-07 16:00:50      4    7                   5.7  11.048319   \n",
       "1    2007-04-07 12:01:42      4    7                   5.0  11.048023   \n",
       "2    2007-04-07 08:03:09      4    7                   2.6  11.047479   \n",
       "3    2007-04-07 04:00:53      4    7                   2.6  11.046926   \n",
       "4    2007-04-07 00:00:54      4    7                   3.4  11.046919   \n",
       "...                  ...    ...  ...                   ...        ...   \n",
       "1749 2006-11-13 04:01:23     11   13                  -4.2  11.045828   \n",
       "1750 2006-11-13 00:02:24     11   13                  -3.5  11.045823   \n",
       "1751 2006-11-12 20:03:04     11   12                   0.0  11.045792   \n",
       "1752 2006-11-12 16:03:04     11   12                   2.6  11.045391   \n",
       "1753 2006-11-12 12:03:04     11   12                   4.2  11.045312   \n",
       "\n",
       "       latitude         id  \n",
       "0     46.010373   original  \n",
       "1     46.012476   original  \n",
       "2     46.011052   original  \n",
       "3     46.009605   original  \n",
       "4     46.010993   original  \n",
       "...         ...        ...  \n",
       "1749  46.011291  predicted  \n",
       "1750  46.011218  predicted  \n",
       "1751  46.010992  predicted  \n",
       "1752  46.010829  predicted  \n",
       "1753  46.010756  predicted  \n",
       "\n",
       "[1754 rows x 7 columns]"
      ]
     },
     "execution_count": 24,
     "metadata": {},
     "output_type": "execute_result"
    }
   ],
   "source": [
    "graph_regressive(reversed_regressive_model, reversed_regressive_window, f'CSVFiles/TestPerformanceCSV/{species}/{file_name}_reversed_regressive_EdgeAnalysis.csv')"
   ]
  },
  {
   "cell_type": "markdown",
   "metadata": {},
   "source": [
    "### Final Results"
   ]
  },
  {
   "cell_type": "code",
   "execution_count": 25,
   "metadata": {},
   "outputs": [
    {
     "data": {
      "text/html": [
       "<div>\n",
       "<style scoped>\n",
       "    .dataframe tbody tr th:only-of-type {\n",
       "        vertical-align: middle;\n",
       "    }\n",
       "\n",
       "    .dataframe tbody tr th {\n",
       "        vertical-align: top;\n",
       "    }\n",
       "\n",
       "    .dataframe thead th {\n",
       "        text-align: right;\n",
       "    }\n",
       "</style>\n",
       "<table border=\"1\" class=\"dataframe\">\n",
       "  <thead>\n",
       "    <tr style=\"text-align: right;\">\n",
       "      <th></th>\n",
       "      <th>loss</th>\n",
       "      <th>mean_absolute_error</th>\n",
       "      <th>mean_squared_error</th>\n",
       "      <th>mae_longitude</th>\n",
       "      <th>mae_latitude</th>\n",
       "      <th>mse_longitude</th>\n",
       "      <th>mse_latitude</th>\n",
       "    </tr>\n",
       "  </thead>\n",
       "  <tbody>\n",
       "    <tr>\n",
       "      <th>Original Regressive Model</th>\n",
       "      <td>0.887438</td>\n",
       "      <td>0.720713</td>\n",
       "      <td>0.887438</td>\n",
       "      <td>0.736176</td>\n",
       "      <td>0.70525</td>\n",
       "      <td>0.961841</td>\n",
       "      <td>0.813035</td>\n",
       "    </tr>\n",
       "    <tr>\n",
       "      <th>Reversed Regressive Model</th>\n",
       "      <td>2.172973</td>\n",
       "      <td>1.139165</td>\n",
       "      <td>2.172973</td>\n",
       "      <td>0.917250</td>\n",
       "      <td>1.36108</td>\n",
       "      <td>1.681412</td>\n",
       "      <td>2.664533</td>\n",
       "    </tr>\n",
       "  </tbody>\n",
       "</table>\n",
       "</div>"
      ],
      "text/plain": [
       "                               loss  mean_absolute_error  mean_squared_error  \\\n",
       "Original Regressive Model  0.887438             0.720713            0.887438   \n",
       "Reversed Regressive Model  2.172973             1.139165            2.172973   \n",
       "\n",
       "                           mae_longitude  mae_latitude  mse_longitude  \\\n",
       "Original Regressive Model       0.736176       0.70525       0.961841   \n",
       "Reversed Regressive Model       0.917250       1.36108       1.681412   \n",
       "\n",
       "                           mse_latitude  \n",
       "Original Regressive Model      0.813035  \n",
       "Reversed Regressive Model      2.664533  "
      ]
     },
     "execution_count": 25,
     "metadata": {},
     "output_type": "execute_result"
    }
   ],
   "source": [
    "results_df = pd.DataFrame(results).T\n",
    "results_df.to_csv(f'ModelFiles/Statistics/{species}/{file_name}_test_data.csv', index_label='Model_Name')\n",
    "results_df"
   ]
  }
 ],
 "metadata": {
  "kernelspec": {
   "display_name": "Python 3",
   "language": "python",
   "name": "python3"
  },
  "language_info": {
   "codemirror_mode": {
    "name": "ipython",
    "version": 3
   },
   "file_extension": ".py",
   "mimetype": "text/x-python",
   "name": "python",
   "nbconvert_exporter": "python",
   "pygments_lexer": "ipython3",
   "version": "3.12.6"
  }
 },
 "nbformat": 4,
 "nbformat_minor": 2
}
